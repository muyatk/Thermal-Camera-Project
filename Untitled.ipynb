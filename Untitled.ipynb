{
 "cells": [
  {
   "cell_type": "code",
   "execution_count": 8,
   "id": "patent-jesus",
   "metadata": {},
   "outputs": [],
   "source": [
    "#from models.model_tiny_yolov1 import model_tiny_yolov1\n",
    "from tensorflow.keras.layers import Input\n",
    "from tensorflow.keras.models import Model\n"
   ]
  },
  {
   "cell_type": "code",
   "execution_count": 22,
   "id": "disturbed-needle",
   "metadata": {},
   "outputs": [],
   "source": [
    "input_shape = (1, 32, 32, 1)\n",
    "\n",
    "inputs = Input(input_shape[1:4])\n",
    "\n",
    "model = model_tiny_yolov1(inputs)"
   ]
  },
  {
   "cell_type": "code",
   "execution_count": 23,
   "id": "frank-nylon",
   "metadata": {},
   "outputs": [],
   "source": [
    "outputs = model_tiny_yolov1(inputs)\n",
    "model = Model(inputs=inputs, outputs=outputs)"
   ]
  },
  {
   "cell_type": "code",
   "execution_count": 24,
   "id": "interstate-uncertainty",
   "metadata": {},
   "outputs": [
    {
     "name": "stdout",
     "output_type": "stream",
     "text": [
      "Model: \"model_3\"\n",
      "_________________________________________________________________\n",
      "Layer (type)                 Output Shape              Param #   \n",
      "=================================================================\n",
      "input_5 (InputLayer)         [(None, 32, 32, 1)]       0         \n",
      "_________________________________________________________________\n",
      "convolutional_0 (Conv2D)     (None, 32, 32, 2)         18        \n",
      "_________________________________________________________________\n",
      "bnconvolutional_0 (BatchNorm (None, 32, 32, 2)         8         \n",
      "_________________________________________________________________\n",
      "leaky_re_lu_56 (LeakyReLU)   (None, 32, 32, 2)         0         \n",
      "_________________________________________________________________\n",
      "max_pooling2d_42 (MaxPooling (None, 16, 16, 2)         0         \n",
      "_________________________________________________________________\n",
      "convolutional_1 (Conv2D)     (None, 16, 16, 4)         72        \n",
      "_________________________________________________________________\n",
      "bnconvolutional_1 (BatchNorm (None, 16, 16, 4)         16        \n",
      "_________________________________________________________________\n",
      "leaky_re_lu_57 (LeakyReLU)   (None, 16, 16, 4)         0         \n",
      "_________________________________________________________________\n",
      "max_pooling2d_43 (MaxPooling (None, 8, 8, 4)           0         \n",
      "_________________________________________________________________\n",
      "convolutional_2 (Conv2D)     (None, 8, 8, 16)          576       \n",
      "_________________________________________________________________\n",
      "bnconvolutional_2 (BatchNorm (None, 8, 8, 16)          64        \n",
      "_________________________________________________________________\n",
      "leaky_re_lu_58 (LeakyReLU)   (None, 8, 8, 16)          0         \n",
      "_________________________________________________________________\n",
      "max_pooling2d_44 (MaxPooling (None, 4, 4, 16)          0         \n",
      "_________________________________________________________________\n",
      "convolutional_3 (Conv2D)     (None, 4, 4, 16)          2304      \n",
      "_________________________________________________________________\n",
      "bnconvolutional_3 (BatchNorm (None, 4, 4, 16)          64        \n",
      "_________________________________________________________________\n",
      "leaky_re_lu_59 (LeakyReLU)   (None, 4, 4, 16)          0         \n",
      "_________________________________________________________________\n",
      "max_pooling2d_45 (MaxPooling (None, 2, 2, 16)          0         \n",
      "_________________________________________________________________\n",
      "convolutional_4 (Conv2D)     (None, 2, 2, 32)          4608      \n",
      "_________________________________________________________________\n",
      "bnconvolutional_4 (BatchNorm (None, 2, 2, 32)          128       \n",
      "_________________________________________________________________\n",
      "leaky_re_lu_60 (LeakyReLU)   (None, 2, 2, 32)          0         \n",
      "_________________________________________________________________\n",
      "max_pooling2d_46 (MaxPooling (None, 1, 1, 32)          0         \n",
      "_________________________________________________________________\n",
      "convolutional_5 (Conv2D)     (None, 1, 1, 64)          18432     \n",
      "_________________________________________________________________\n",
      "bnconvolutional_5 (BatchNorm (None, 1, 1, 64)          256       \n",
      "_________________________________________________________________\n",
      "leaky_re_lu_61 (LeakyReLU)   (None, 1, 1, 64)          0         \n",
      "_________________________________________________________________\n",
      "max_pooling2d_47 (MaxPooling (None, 1, 1, 64)          0         \n",
      "_________________________________________________________________\n",
      "convolutional_6 (Conv2D)     (None, 1, 1, 128)         73728     \n",
      "_________________________________________________________________\n",
      "bnconvolutional_6 (BatchNorm (None, 1, 1, 128)         512       \n",
      "_________________________________________________________________\n",
      "leaky_re_lu_62 (LeakyReLU)   (None, 1, 1, 128)         0         \n",
      "_________________________________________________________________\n",
      "convolutional_7 (Conv2D)     (None, 1, 1, 64)          73728     \n",
      "_________________________________________________________________\n",
      "bnconvolutional_7 (BatchNorm (None, 1, 1, 64)          256       \n",
      "_________________________________________________________________\n",
      "leaky_re_lu_63 (LeakyReLU)   (None, 1, 1, 64)          0         \n",
      "_________________________________________________________________\n",
      "flatten_7 (Flatten)          (None, 64)                0         \n",
      "_________________________________________________________________\n",
      "connected_0 (Dense)          (None, 588)               38220     \n",
      "=================================================================\n",
      "Total params: 212,990\n",
      "Trainable params: 38,220\n",
      "Non-trainable params: 174,770\n",
      "_________________________________________________________________\n"
     ]
    }
   ],
   "source": [
    "model.summary()"
   ]
  },
  {
   "cell_type": "code",
   "execution_count": 31,
   "id": "later-consumption",
   "metadata": {},
   "outputs": [
    {
     "data": {
      "text/plain": [
       "<tensorflow.python.keras.layers.core.Dense at 0x221b3cdb978>"
      ]
     },
     "execution_count": 31,
     "metadata": {},
     "output_type": "execute_result"
    }
   ],
   "source": [
    "model.layers.pop()"
   ]
  },
  {
   "cell_type": "code",
   "execution_count": 32,
   "id": "iraqi-commonwealth",
   "metadata": {},
   "outputs": [
    {
     "data": {
      "text/plain": [
       "[<tensorflow.python.keras.engine.input_layer.InputLayer at 0x221b42fc780>,\n",
       " <tensorflow.python.keras.layers.convolutional.Conv2D at 0x221b42fc5c0>,\n",
       " <tensorflow.python.keras.layers.normalization_v2.BatchNormalization at 0x221befef588>,\n",
       " <tensorflow.python.keras.layers.advanced_activations.LeakyReLU at 0x221b3b415c0>,\n",
       " <tensorflow.python.keras.layers.pooling.MaxPooling2D at 0x221b3b416a0>,\n",
       " <tensorflow.python.keras.layers.convolutional.Conv2D at 0x221b3ffc9e8>,\n",
       " <tensorflow.python.keras.layers.normalization_v2.BatchNormalization at 0x221b400e320>,\n",
       " <tensorflow.python.keras.layers.advanced_activations.LeakyReLU at 0x221b37adda0>,\n",
       " <tensorflow.python.keras.layers.pooling.MaxPooling2D at 0x221b17b47f0>,\n",
       " <tensorflow.python.keras.layers.convolutional.Conv2D at 0x221b3b3f3c8>,\n",
       " <tensorflow.python.keras.layers.normalization_v2.BatchNormalization at 0x221b42f9358>,\n",
       " <tensorflow.python.keras.layers.advanced_activations.LeakyReLU at 0x221b291f198>,\n",
       " <tensorflow.python.keras.layers.pooling.MaxPooling2D at 0x221b17a5278>,\n",
       " <tensorflow.python.keras.layers.convolutional.Conv2D at 0x221bee16668>,\n",
       " <tensorflow.python.keras.layers.normalization_v2.BatchNormalization at 0x221b3ca2a20>,\n",
       " <tensorflow.python.keras.layers.advanced_activations.LeakyReLU at 0x221b402abe0>,\n",
       " <tensorflow.python.keras.layers.pooling.MaxPooling2D at 0x221b3b480b8>,\n",
       " <tensorflow.python.keras.layers.convolutional.Conv2D at 0x221b3b57828>,\n",
       " <tensorflow.python.keras.layers.normalization_v2.BatchNormalization at 0x221b3b2a438>,\n",
       " <tensorflow.python.keras.layers.advanced_activations.LeakyReLU at 0x221b3b2ad30>,\n",
       " <tensorflow.python.keras.layers.pooling.MaxPooling2D at 0x221bee3d9e8>,\n",
       " <tensorflow.python.keras.layers.convolutional.Conv2D at 0x221bee454a8>,\n",
       " <tensorflow.python.keras.layers.normalization_v2.BatchNormalization at 0x221bee430b8>,\n",
       " <tensorflow.python.keras.layers.advanced_activations.LeakyReLU at 0x221bee45d68>,\n",
       " <tensorflow.python.keras.layers.pooling.MaxPooling2D at 0x221bee4b668>,\n",
       " <tensorflow.python.keras.layers.convolutional.Conv2D at 0x221bee4e128>,\n",
       " <tensorflow.python.keras.layers.normalization_v2.BatchNormalization at 0x221bee4ecf8>,\n",
       " <tensorflow.python.keras.layers.advanced_activations.LeakyReLU at 0x221bee4b8d0>,\n",
       " <tensorflow.python.keras.layers.convolutional.Conv2D at 0x221b3cd99e8>,\n",
       " <tensorflow.python.keras.layers.normalization_v2.BatchNormalization at 0x221b3cac6a0>,\n",
       " <tensorflow.python.keras.layers.advanced_activations.LeakyReLU at 0x221b3cd9550>,\n",
       " <tensorflow.python.keras.layers.core.Flatten at 0x221b3cdbd30>,\n",
       " <tensorflow.python.keras.layers.core.Dense at 0x221b3cdb978>]"
      ]
     },
     "execution_count": 32,
     "metadata": {},
     "output_type": "execute_result"
    }
   ],
   "source": [
    "model.layers"
   ]
  },
  {
   "cell_type": "code",
   "execution_count": 18,
   "id": "likely-jacksonville",
   "metadata": {},
   "outputs": [
    {
     "name": "stdout",
     "output_type": "stream",
     "text": [
      "Model: \"model_2\"\n",
      "_________________________________________________________________\n",
      "Layer (type)                 Output Shape              Param #   \n",
      "=================================================================\n",
      "input_4 (InputLayer)         [(None, 32, 32, 1)]       0         \n",
      "_________________________________________________________________\n",
      "convolutional_0 (Conv2D)     (None, 32, 32, 2)         18        \n",
      "_________________________________________________________________\n",
      "bnconvolutional_0 (BatchNorm (None, 32, 32, 2)         8         \n",
      "_________________________________________________________________\n",
      "leaky_re_lu_40 (LeakyReLU)   (None, 32, 32, 2)         0         \n",
      "_________________________________________________________________\n",
      "max_pooling2d_30 (MaxPooling (None, 16, 16, 2)         0         \n",
      "_________________________________________________________________\n",
      "convolutional_1 (Conv2D)     (None, 16, 16, 4)         72        \n",
      "_________________________________________________________________\n",
      "bnconvolutional_1 (BatchNorm (None, 16, 16, 4)         16        \n",
      "_________________________________________________________________\n",
      "leaky_re_lu_41 (LeakyReLU)   (None, 16, 16, 4)         0         \n",
      "_________________________________________________________________\n",
      "max_pooling2d_31 (MaxPooling (None, 8, 8, 4)           0         \n",
      "_________________________________________________________________\n",
      "convolutional_2 (Conv2D)     (None, 8, 8, 16)          576       \n",
      "_________________________________________________________________\n",
      "bnconvolutional_2 (BatchNorm (None, 8, 8, 16)          64        \n",
      "_________________________________________________________________\n",
      "leaky_re_lu_42 (LeakyReLU)   (None, 8, 8, 16)          0         \n",
      "_________________________________________________________________\n",
      "max_pooling2d_32 (MaxPooling (None, 4, 4, 16)          0         \n",
      "_________________________________________________________________\n",
      "convolutional_3 (Conv2D)     (None, 4, 4, 16)          2304      \n",
      "_________________________________________________________________\n",
      "bnconvolutional_3 (BatchNorm (None, 4, 4, 16)          64        \n",
      "_________________________________________________________________\n",
      "leaky_re_lu_43 (LeakyReLU)   (None, 4, 4, 16)          0         \n",
      "_________________________________________________________________\n",
      "max_pooling2d_33 (MaxPooling (None, 2, 2, 16)          0         \n",
      "_________________________________________________________________\n",
      "convolutional_4 (Conv2D)     (None, 2, 2, 32)          4608      \n",
      "_________________________________________________________________\n",
      "bnconvolutional_4 (BatchNorm (None, 2, 2, 32)          128       \n",
      "_________________________________________________________________\n",
      "leaky_re_lu_44 (LeakyReLU)   (None, 2, 2, 32)          0         \n",
      "_________________________________________________________________\n",
      "max_pooling2d_34 (MaxPooling (None, 1, 1, 32)          0         \n",
      "_________________________________________________________________\n",
      "convolutional_5 (Conv2D)     (None, 1, 1, 64)          18432     \n",
      "_________________________________________________________________\n",
      "bnconvolutional_5 (BatchNorm (None, 1, 1, 64)          256       \n",
      "_________________________________________________________________\n",
      "leaky_re_lu_45 (LeakyReLU)   (None, 1, 1, 64)          0         \n",
      "_________________________________________________________________\n",
      "max_pooling2d_35 (MaxPooling (None, 1, 1, 64)          0         \n",
      "_________________________________________________________________\n",
      "convolutional_6 (Conv2D)     (None, 1, 1, 128)         73728     \n",
      "_________________________________________________________________\n",
      "bnconvolutional_6 (BatchNorm (None, 1, 1, 128)         512       \n",
      "_________________________________________________________________\n",
      "leaky_re_lu_46 (LeakyReLU)   (None, 1, 1, 128)         0         \n",
      "_________________________________________________________________\n",
      "convolutional_7 (Conv2D)     (None, 1, 1, 64)          73728     \n",
      "_________________________________________________________________\n",
      "bnconvolutional_7 (BatchNorm (None, 1, 1, 64)          256       \n",
      "_________________________________________________________________\n",
      "leaky_re_lu_47 (LeakyReLU)   (None, 1, 1, 64)          0         \n",
      "_________________________________________________________________\n",
      "flatten_5 (Flatten)          (None, 64)                0         \n",
      "_________________________________________________________________\n",
      "connected_0 (Dense)          (None, 588)               38220     \n",
      "_________________________________________________________________\n",
      "yolo__reshape_5 (Yolo_Reshap (None, 4, 4, 7)           0         \n",
      "=================================================================\n",
      "Total params: 212,990\n",
      "Trainable params: 38,220\n",
      "Non-trainable params: 174,770\n",
      "_________________________________________________________________\n"
     ]
    }
   ],
   "source": [
    "model.summary()"
   ]
  },
  {
   "cell_type": "code",
   "execution_count": null,
   "id": "located-acceptance",
   "metadata": {},
   "outputs": [],
   "source": [
    "model.load_weights(\"tiny-yolov1.hdf5\")"
   ]
  },
  {
   "cell_type": "code",
   "execution_count": null,
   "id": "floppy-milan",
   "metadata": {},
   "outputs": [],
   "source": [
    "import cv2 as cv\n",
    "\n",
    "image = cv.imread(\"person.jpg\")\n",
    "input_shape = (1, 448, 448, 3)\n",
    "image = cv.cvtColor(image, cv.COLOR_BGR2RGB)\n",
    "image = cv.resize(image, input_shape[1:3])\n",
    "image = np.reshape(image, input_shape)\n",
    "image = image / 255."
   ]
  },
  {
   "cell_type": "code",
   "execution_count": null,
   "id": "diverse-apache",
   "metadata": {},
   "outputs": [],
   "source": [
    "image.shape"
   ]
  },
  {
   "cell_type": "code",
   "execution_count": null,
   "id": "jewish-prompt",
   "metadata": {},
   "outputs": [],
   "source": [
    "prediction = model.predict(image)"
   ]
  },
  {
   "cell_type": "code",
   "execution_count": null,
   "id": "sorted-hypothesis",
   "metadata": {},
   "outputs": [],
   "source": [
    "prediction.shape"
   ]
  },
  {
   "cell_type": "code",
   "execution_count": null,
   "id": "annoying-private",
   "metadata": {},
   "outputs": [],
   "source": [
    "def yolo_head(feats):\n",
    "    # Dynamic implementation of conv dims for fully convolutional model.\n",
    "    conv_dims = np.shape(feats)[0:2]  # assuming channels last\n",
    "    # In YOLO the height index is the inner most iteration.\n",
    "    conv_height_index = np.arange(0, stop=conv_dims[0])\n",
    "    conv_width_index = np.arange(0, stop=conv_dims[1])\n",
    "    conv_height_index = np.tile(conv_height_index, [conv_dims[1]])\n",
    "\n",
    "    # TODO: Repeat_elements and tf.split doesn't support dynamic splits.\n",
    "    conv_width_index = np.tile(np.expand_dims(conv_width_index, 0), [conv_dims[0], 1])\n",
    "    conv_width_index = np.reshape(np.transpose(conv_width_index), [conv_dims[0] * conv_dims[1]])\n",
    "    conv_index = np.transpose(np.stack([conv_height_index, conv_width_index]))\n",
    "    conv_index = np.reshape(conv_index, [conv_dims[0], conv_dims[1], 1, 2])\n",
    "\n",
    "    conv_dims = np.reshape(conv_dims, [1, 1, 1, 2])\n",
    "\n",
    "    box_xy = (feats[..., :2] + conv_index) / conv_dims * 448\n",
    "    box_wh = feats[..., 2:4] * 448\n",
    "\n",
    "    return box_xy, box_wh\n",
    "\n",
    "\n",
    "def xywh2minmax(xy, wh):\n",
    "    xy_min = xy - wh / 2\n",
    "    xy_max = xy + wh / 2\n",
    "\n",
    "    return xy_min, xy_max\n",
    "\n",
    "\n",
    "def iou(pred_mins, pred_maxes, true_mins, true_maxes):\n",
    "    intersect_mins = np.maximum(pred_mins, true_mins)\n",
    "    intersect_maxes = np.minimum(pred_maxes, true_maxes)\n",
    "    intersect_wh = np.maximum(intersect_maxes - intersect_mins, 0.)\n",
    "    intersect_areas = intersect_wh[..., 0] * intersect_wh[..., 1]\n",
    "\n",
    "    pred_wh = pred_maxes - pred_mins\n",
    "    true_wh = true_maxes - true_mins\n",
    "    pred_areas = pred_wh[..., 0] * pred_wh[..., 1]\n",
    "    true_areas = true_wh[..., 0] * true_wh[..., 1]\n",
    "\n",
    "    union_areas = pred_areas + true_areas - intersect_areas\n",
    "    iou_scores = intersect_areas / union_areas\n",
    "\n",
    "    return iou_scores\n"
   ]
  },
  {
   "cell_type": "code",
   "execution_count": null,
   "id": "radical-simpson",
   "metadata": {},
   "outputs": [],
   "source": [
    "predict_class = prediction[..., :20]  # 1 * 7 * 7 * 20\n",
    "predict_trust = prediction[..., 20:22]  # 1 * 7 * 7 * 2\n",
    "predict_box = prediction[..., 22:]  # 1 * 7 * 7 * 8\n",
    "\n",
    "predict_class = np.reshape(predict_class, [7, 7, 1, 20])\n",
    "predict_trust = np.reshape(predict_trust, [7, 7, 2, 1])\n",
    "predict_box = np.reshape(predict_box, [7, 7, 2, 4])\n",
    "\n",
    "predict_scores = predict_class * predict_trust  # 7 * 7 * 2 * 20\n",
    "\n",
    "box_classes = np.argmax(predict_scores, axis=-1)  # 7 * 7 * 2\n",
    "box_class_scores = np.max(predict_scores, axis=-1)  # 7 * 7 * 2\n",
    "best_box_class_scores = np.max(box_class_scores, axis=-1, keepdims=True)  # 7 * 7 * 1\n",
    "\n",
    "box_mask = box_class_scores >= best_box_class_scores  # ? * 7 * 7 * 2\n",
    "\n",
    "filter_mask = box_class_scores >= 0.06  # 7 * 7 * 2\n",
    "filter_mask *= box_mask  # 7 * 7 * 2\n",
    "\n",
    "filter_mask = np.expand_dims(filter_mask, axis=-1)  # 7 * 7 * 2 * 1\n",
    "\n",
    "predict_scores *= filter_mask  # 7 * 7 * 2 * 20\n",
    "predict_box *= filter_mask  # 7 * 7 * 2 * 4\n",
    "\n",
    "box_classes = np.expand_dims(box_classes, axis=-1)\n",
    "box_classes *= filter_mask  # 7 * 7 * 2 * 1\n",
    "\n",
    "box_xy, box_wh = yolo_head(predict_box)  # 7 * 7 * 2 * 2\n",
    "box_xy_min, box_xy_max = xywh2minmax(box_xy, box_wh)  # 7 * 7 * 2 * 2\n",
    "\n",
    "predict_trust *= filter_mask  # 7 * 7 * 2 * 1\n",
    "nms_mask = np.zeros_like(filter_mask)  # 7 * 7 * 2 * 1\n",
    "predict_trust_max = np.max(predict_trust)  # 找到置信度最高的框\n",
    "max_i = max_j = max_k = 0\n",
    "while predict_trust_max > 0:\n",
    "    for i in range(nms_mask.shape[0]):\n",
    "        for j in range(nms_mask.shape[1]):\n",
    "            for k in range(nms_mask.shape[2]):\n",
    "                if predict_trust[i, j, k, 0] == predict_trust_max:\n",
    "                    nms_mask[i, j, k, 0] = 1\n",
    "                    filter_mask[i, j, k, 0] = 0\n",
    "                    max_i = i\n",
    "                    max_j = j\n",
    "                    max_k = k\n",
    "    for i in range(nms_mask.shape[0]):\n",
    "        for j in range(nms_mask.shape[1]):\n",
    "            for k in range(nms_mask.shape[2]):\n",
    "                if filter_mask[i, j, k, 0] == 1:\n",
    "                    iou_score = iou(box_xy_min[max_i, max_j, max_k, :],\n",
    "                                    box_xy_max[max_i, max_j, max_k, :],\n",
    "                                    box_xy_min[i, j, k, :],\n",
    "                                    box_xy_max[i, j, k, :])\n",
    "                    if iou_score > 0.02:\n",
    "                        filter_mask[i, j, k, 0] = 0\n",
    "    predict_trust *= filter_mask  # 7 * 7 * 2 * 1\n",
    "    predict_trust_max = np.max(predict_trust)  # 找到置信度最高的框\n",
    "\n",
    "box_xy_min *= nms_mask\n",
    "box_xy_max *= nms_mask\n",
    "\n",
    "image = cv.imread(\"person.jpg\")\n",
    "origin_shape = image.shape[0:2]\n",
    "image = cv.resize(image, (448, 448))\n",
    "detect_shape = filter_mask.shape\n",
    "\n",
    "for i in range(detect_shape[0]):\n",
    "    for j in range(detect_shape[1]):\n",
    "        for k in range(detect_shape[2]):\n",
    "            if nms_mask[i, j, k, 0]:\n",
    "                cv.rectangle(image, (int(box_xy_min[i, j, k, 0]), int(box_xy_min[i, j, k, 1])),\n",
    "                                (int(box_xy_max[i, j, k, 0]), int(box_xy_max[i, j, k, 1])),\n",
    "                                (0, 0, 255))\n",
    "                cv.putText(image, classes_name[box_classes[i, j, k, 0]],\n",
    "                            (int(box_xy_min[i, j, k, 0]), int(box_xy_min[i, j, k, 1])),\n",
    "                            1, 1, (0, 0, 255))\n",
    "\n",
    "image = cv.resize(image, (origin_shape[1], origin_shape[0]))\n",
    "cv.imshow('image', image)\n",
    "cv.waitKey(0)"
   ]
  },
  {
   "cell_type": "code",
   "execution_count": 21,
   "id": "surprising-problem",
   "metadata": {},
   "outputs": [],
   "source": [
    "from tensorflow.keras.layers import Conv2D, MaxPooling2D, Flatten, Dense, Reshape, LeakyReLU\n",
    "from tensorflow.keras.layers import BatchNormalization\n",
    "from tensorflow.keras.regularizers import l2\n",
    "from tensorflow.keras.layers import Layer\n",
    "import tensorflow.keras.backend as K\n",
    "\n",
    "\n",
    "class Yolo_Reshape(Layer):\n",
    "    def __init__(self, target_shape, **kwargs):\n",
    "        super(Yolo_Reshape, self).__init__(**kwargs)\n",
    "        self.target_shape = tuple(target_shape)\n",
    "\n",
    "    def compute_output_shape(self, input_shape):\n",
    "        return (input_shape[0],) + self.target_shape\n",
    "\n",
    "    def call(self, inputs, **kwargs):\n",
    "        S = [self.target_shape[0], self.target_shape[1]]\n",
    "        C = 2\n",
    "        B = 1\n",
    "        idx1 = S[0] * S[1] * C\n",
    "        idx2 = idx1 + S[0] * S[1] * B\n",
    "        # class prediction\n",
    "        class_probs = K.reshape(\n",
    "            inputs[:, :idx1], (K.shape(inputs)[0],) + tuple([S[0], S[1], C]))\n",
    "        class_probs = K.softmax(class_probs)\n",
    "        # confidence\n",
    "        confs = K.reshape(\n",
    "            inputs[:, idx1:idx2], (K.shape(inputs)[0],) + tuple([S[0], S[1], B]))\n",
    "        confs = K.sigmoid(confs)\n",
    "        # boxes\n",
    "        boxes = K.reshape(\n",
    "            inputs[:, idx2:], (K.shape(inputs)[0],) + tuple([S[0], S[1], B * 4]))\n",
    "        boxes = K.sigmoid(boxes)\n",
    "        # return np.array([class_probs, confs, boxes])\n",
    "        outputs = K.concatenate([class_probs, confs, boxes])\n",
    "        return outputs\n",
    "\n",
    "\n",
    "def model_tiny_yolov1(inputs):\n",
    "    x = Conv2D(2, (3, 3), padding='same', name='convolutional_0', use_bias=False,\n",
    "               kernel_regularizer=l2(5e-4), trainable=False)(inputs)\n",
    "    x = BatchNormalization(name='bnconvolutional_0', trainable=False)(x)\n",
    "    x = LeakyReLU(alpha=0.1)(x)\n",
    "    x = MaxPooling2D((2, 2), strides=(2, 2), padding='same')(x)\n",
    "\n",
    "    x = Conv2D(4, (3, 3), padding='same', name='convolutional_1', use_bias=False,\n",
    "               kernel_regularizer=l2(5e-4), trainable=False)(x)\n",
    "    x = BatchNormalization(name='bnconvolutional_1', trainable=False)(x)\n",
    "    x = LeakyReLU(alpha=0.1)(x)\n",
    "    x = MaxPooling2D((2, 2), strides=(2, 2), padding='same')(x)\n",
    "\n",
    "    x = Conv2D(16, (3, 3), padding='same', name='convolutional_2', use_bias=False,\n",
    "               kernel_regularizer=l2(5e-4), trainable=False)(x)\n",
    "    x = BatchNormalization(name='bnconvolutional_2', trainable=False)(x)\n",
    "    x = LeakyReLU(alpha=0.1)(x)\n",
    "    x = MaxPooling2D((2, 2), strides=(2, 2), padding='same')(x)\n",
    "\n",
    "    x = Conv2D(16, (3, 3), padding='same', name='convolutional_3', use_bias=False,\n",
    "               kernel_regularizer=l2(5e-4), trainable=False)(x)\n",
    "    x = BatchNormalization(name='bnconvolutional_3', trainable=False)(x)\n",
    "    x = LeakyReLU(alpha=0.1)(x)\n",
    "    x = MaxPooling2D((2, 2), strides=(2, 2), padding='same')(x)\n",
    "\n",
    "    x = Conv2D(32, (3, 3), padding='same', name='convolutional_4', use_bias=False,\n",
    "               kernel_regularizer=l2(5e-4), trainable=False)(x)\n",
    "    x = BatchNormalization(name='bnconvolutional_4', trainable=False)(x)\n",
    "    x = LeakyReLU(alpha=0.1)(x)\n",
    "    x = MaxPooling2D((2, 2), strides=(2, 2), padding='same')(x)\n",
    "\n",
    "    x = Conv2D(64, (3, 3), padding='same', name='convolutional_5', use_bias=False,\n",
    "               kernel_regularizer=l2(5e-4), trainable=False)(x)\n",
    "    x = BatchNormalization(name='bnconvolutional_5', trainable=False)(x)\n",
    "    x = LeakyReLU(alpha=0.1)(x)\n",
    "    x = MaxPooling2D((2, 2), strides=(2, 2), padding='same')(x)\n",
    "\n",
    "    x = Conv2D(128, (3, 3), padding='same', name='convolutional_6', use_bias=False,\n",
    "               kernel_regularizer=l2(5e-4), trainable=False)(x)\n",
    "    x = BatchNormalization(name='bnconvolutional_6', trainable=False)(x)\n",
    "    x = LeakyReLU(alpha=0.1)(x)\n",
    "\n",
    "    x = Conv2D(64, (3, 3), padding='same', name='convolutional_7', use_bias=False,\n",
    "               kernel_regularizer=l2(5e-4), trainable=False)(x)\n",
    "    x = BatchNormalization(name='bnconvolutional_7', trainable=False)(x)\n",
    "    x = LeakyReLU(alpha=0.1)(x)\n",
    "\n",
    "    x = Flatten()(x)\n",
    "    x = Dense(588, activation='linear', name='connected_0')(x)\n",
    "    # outputs = Reshape((7, 7, 30))(x)\n",
    "    #outputs = Yolo_Reshape((4, 4, 7))(x)\n",
    "\n",
    "    return x"
   ]
  },
  {
   "cell_type": "code",
   "execution_count": 33,
   "id": "entire-venezuela",
   "metadata": {},
   "outputs": [
    {
     "data": {
      "image/png": "[encoded data removed]",
      "text/plain": [
       "<Figure size 576x288 with 2 Axes>"
      ]
     },
     "metadata": {
      "needs_background": "light"
     },
     "output_type": "display_data"
    }
   ],
   "source": [
    "import numpy as np\n",
    "import matplotlib.pyplot as plt\n",
    "import matplotlib.tri as mtri\n",
    "\n",
    "\n",
    "fig = plt.figure(figsize=plt.figaspect(0.5))\n",
    "\n",
    "# ==========\n",
    "# First plot\n",
    "# ==========\n",
    "\n",
    "# Make a mesh in the space of parameterisation variables u and v\n",
    "u = np.linspace(0, 2.0 * np.pi, endpoint=True, num=50)\n",
    "v = np.linspace(-0.5, 0.5, endpoint=True, num=10)\n",
    "u, v = np.meshgrid(u, v)\n",
    "u, v = u.flatten(), v.flatten()\n",
    "\n",
    "# This is the Mobius mapping, taking a u, v pair and returning an x, y, z\n",
    "# triple\n",
    "x = (1 + 0.5 * v * np.cos(u / 2.0)) * np.cos(u)\n",
    "y = (1 + 0.5 * v * np.cos(u / 2.0)) * np.sin(u)\n",
    "z = 0.5 * v * np.sin(u / 2.0)\n",
    "\n",
    "# Triangulate parameter space to determine the triangles\n",
    "tri = mtri.Triangulation(u, v)\n",
    "\n",
    "# Plot the surface.  The triangles in parameter space determine which x, y, z\n",
    "# points are connected by an edge.\n",
    "ax = fig.add_subplot(1, 2, 1, projection='3d')\n",
    "ax.plot_trisurf(x, y, z, triangles=tri.triangles, cmap=plt.cm.Spectral)\n",
    "ax.set_zlim(-1, 1)\n",
    "\n",
    "\n",
    "# ===========\n",
    "# Second plot\n",
    "# ===========\n",
    "\n",
    "# Make parameter spaces radii and angles.\n",
    "n_angles = 36\n",
    "n_radii = 8\n",
    "min_radius = 0.25\n",
    "radii = np.linspace(min_radius, 0.95, n_radii)\n",
    "\n",
    "angles = np.linspace(0, 2*np.pi, n_angles, endpoint=False)\n",
    "angles = np.repeat(angles[..., np.newaxis], n_radii, axis=1)\n",
    "angles[:, 1::2] += np.pi/n_angles\n",
    "\n",
    "# Map radius, angle pairs to x, y, z points.\n",
    "x = (radii*np.cos(angles)).flatten()\n",
    "y = (radii*np.sin(angles)).flatten()\n",
    "z = (np.cos(radii)*np.cos(3*angles)).flatten()\n",
    "\n",
    "# Create the Triangulation; no triangles so Delaunay triangulation created.\n",
    "triang = mtri.Triangulation(x, y)\n",
    "\n",
    "# Mask off unwanted triangles.\n",
    "xmid = x[triang.triangles].mean(axis=1)\n",
    "ymid = y[triang.triangles].mean(axis=1)\n",
    "mask = xmid**2 + ymid**2 < min_radius**2\n",
    "triang.set_mask(mask)\n",
    "\n",
    "# Plot the surface.\n",
    "ax = fig.add_subplot(1, 2, 2, projection='3d')\n",
    "ax.plot_trisurf(triang, z, cmap=plt.cm.CMRmap)\n",
    "\n",
    "\n",
    "plt.show()"
   ]
  },
  {
   "cell_type": "code",
   "execution_count": 38,
   "id": "falling-edmonton",
   "metadata": {},
   "outputs": [
    {
     "name": "stderr",
     "output_type": "stream",
     "text": [
      "C:\\Users\\Admin\\.conda\\envs\\myGPU\\lib\\site-packages\\ipykernel_launcher.py:6: MatplotlibDeprecationWarning: Adding an axes using the same arguments as a previous axes currently reuses the earlier instance.  In a future version, a new instance will always be created and returned.  Meanwhile, this warning can be suppressed, and the future behavior ensured, by passing a unique label to each axes instance.\n",
      "  \n"
     ]
    },
    {
     "data": {
      "image/png": "[encoded data removed]",
      "text/plain": [
       "<Figure size 432x288 with 1 Axes>"
      ]
     },
     "metadata": {
      "needs_background": "light"
     },
     "output_type": "display_data"
    }
   ],
   "source": [
    "from mpl_toolkits.mplot3d import Axes3D\n",
    "from mpl_toolkits.mplot3d.art3d import Poly3DCollection\n",
    "import matplotlib.pyplot as plt\n",
    "fig = plt.figure()\n",
    "ax = Axes3D(fig)\n",
    "fig.add_axes(ax)\n",
    "x = [3,6,3]\n",
    "y = [6,4,3]\n",
    "z = [9,2,3]\n",
    "verts = [list(zip(x,y,z))]\n",
    "ax.add_collection3d(Poly3DCollection(verts))\n",
    "plt.show()"
   ]
  },
  {
   "cell_type": "code",
   "execution_count": 34,
   "id": "waiting-judge",
   "metadata": {},
   "outputs": [],
   "source": [
    "from tensorflow.keras.models import Sequential\n",
    "from tensorflow.keras.layers import Conv2D\n",
    "from tensorflow.keras.layers import MaxPooling2D, AveragePooling2D\n",
    "from tensorflow.keras.layers import Dense,Softmax\n",
    "from tensorflow.keras.layers import Flatten\n",
    "from tensorflow.keras.optimizers import SGD\n",
    "from tensorflow.keras.layers import BatchNormalization\n",
    "from matplotlib import pyplot as plt\n",
    "\n",
    "def define_model():\n",
    "\n",
    "    model = Sequential()\n",
    "    model.add(Conv2D(32, (3, 3), activation='relu',padding='same', input_shape=(128, 128, 1)))\n",
    "    model.add(MaxPooling2D((2, 2), strides=(2, 2), padding='same'))\n",
    "    model.add(Conv2D(64, (3, 3), activation='relu',padding='same'))\n",
    "    model.add(Conv2D(64, (1, 1), activation='relu'))\n",
    "    model.add(MaxPooling2D((2, 2)))\n",
    "    model.add(Conv2D(64, (3, 3), activation='relu',padding='same'))\n",
    "    model.add(Conv2D(32, (1, 1), activation='relu'))\n",
    "    model.add(MaxPooling2D((2, 2), strides=(2, 2), padding='same'))\n",
    "    model.add(Conv2D(32, (3, 3), activation='relu',padding='same'))\n",
    "    model.add(Conv2D(16, (1, 1), activation='relu'))\n",
    "    model.add(MaxPooling2D((2, 2), strides=(2, 2), padding='same'))\n",
    "    model.add(Conv2D(16, (3, 3), activation='relu',padding='same'))\n",
    "    model.add(Conv2D(8, (1, 1), activation='relu'))\n",
    "    model.add(MaxPooling2D((2, 2), strides=(2, 2), padding='same'))\n",
    "    model.add(Conv2D(8, (1, 1), activation='relu'))\n",
    "\n",
    "    return model\n",
    "\n",
    "   "
   ]
  },
  {
   "cell_type": "code",
   "execution_count": 111,
   "id": "obvious-speech",
   "metadata": {},
   "outputs": [],
   "source": [
    "def xywh2minmax(xy, wh):\n",
    "    xy_min = xy - wh / 2\n",
    "    xy_max = xy + wh / 2\n",
    "\n",
    "    return xy_min, xy_max"
   ]
  },
  {
   "cell_type": "code",
   "execution_count": 112,
   "id": "young-running",
   "metadata": {},
   "outputs": [],
   "source": [
    "def bb_intersection_over_union(boxA, boxB):\n",
    "    # determine the (x, y)-coordinates of the intersection rectangle\n",
    "    xA = max(boxA[0], boxB[0])\n",
    "    yA = max(boxA[1], boxB[1])\n",
    "    xB = min(boxA[2], boxB[2])\n",
    "    yB = min(boxA[3], boxB[3])\n",
    "    # compute the area of intersection rectangle\n",
    "    interArea = max(0, xB - xA + 1) * max(0, yB - yA + 1)\n",
    "    # compute the area of both the prediction and ground-truth\n",
    "    # rectangles\n",
    "    boxAArea = (boxA[2] - boxA[0] + 1) * (boxA[3] - boxA[1] + 1)\n",
    "    boxBArea = (boxB[2] - boxB[0] + 1) * (boxB[3] - boxB[1] + 1)\n",
    "    # compute the intersection over union by taking the intersection\n",
    "    # area and dividing it by the sum of prediction + ground-truth\n",
    "    # areas - the interesection area\n",
    "    iou = interArea / float(boxAArea + boxBArea - interArea)\n",
    "    # return the intersection over union value\n",
    "    return iou"
   ]
  },
  {
   "cell_type": "code",
   "execution_count": null,
   "id": "medium-wednesday",
   "metadata": {},
   "outputs": [],
   "source": [
    "import os\n",
    "\n",
    "img_list = os.listdir(\"images\")"
   ]
  },
  {
   "cell_type": "code",
   "execution_count": 41,
   "id": "regulated-philadelphia",
   "metadata": {},
   "outputs": [],
   "source": [
    "with open(\"labels/fig_20210507_1605_3078_0002_15_18.txt\") as file:\n",
    "    lines = file.readlines()\n",
    "    lines = [line.rstrip() for line in lines]"
   ]
  },
  {
   "cell_type": "code",
   "execution_count": 43,
   "id": "synthetic-audit",
   "metadata": {},
   "outputs": [
    {
     "name": "stdout",
     "output_type": "stream",
     "text": [
      "['0', '0.265714', '0.470274', '0.177143', '0.178354']\n",
      "['1', '0.590857', '0.788110', '0.052571', '0.054878']\n",
      "['0', '0.154857', '0.673018', '0.046857', '0.129573']\n",
      "['2', '0.481143', '0.612043', '0.077714', '0.053354']\n",
      "['2', '0.759429', '0.508384', '0.289143', '0.410061']\n",
      "['2', '0.518857', '0.725610', '0.050286', '0.030488']\n"
     ]
    }
   ],
   "source": [
    "for line in lines:\n",
    "    print(line.split(\" \"))"
   ]
  },
  {
   "cell_type": "code",
   "execution_count": 59,
   "id": "accepting-concrete",
   "metadata": {},
   "outputs": [
    {
     "name": "stdout",
     "output_type": "stream",
     "text": [
      "0 0.265714 0.470274 0.177143 0.178354\n",
      "1 0.590857 0.788110 0.052571 0.054878\n",
      "0 0.154857 0.673018 0.046857 0.129573\n",
      "2 0.481143 0.612043 0.077714 0.053354\n",
      "2 0.759429 0.508384 0.289143 0.410061\n",
      "2 0.518857 0.725610 0.050286 0.030488\n"
     ]
    }
   ],
   "source": [
    "for line in lines:\n",
    "    print(line)"
   ]
  },
  {
   "cell_type": "code",
   "execution_count": 67,
   "id": "understood-russell",
   "metadata": {},
   "outputs": [],
   "source": [
    "import math\n",
    "\n",
    "G_T = np.zeros((4,4,8))\n",
    "\n",
    "for line in lines:\n",
    "    \n",
    "    g_t = [0,0,0,0,0,0,0,0]\n",
    "    \n",
    "    p=line.split(\" \")\n",
    "    \n",
    "    g_t[0] = float(p[1])\n",
    "    g_t[1] = float(p[2])\n",
    "    g_t[2] = float(p[3])\n",
    "    g_t[3] = float(p[4])\n",
    "    g_t[4] = float(1.0)\n",
    "    \n",
    "    if p[0]==\"0\":\n",
    "        g_t[5] = float(1.0)\n",
    "    if p[0]==\"1\":\n",
    "        g_t[6] = float(1.0)\n",
    "    if p[0]==\"2\":\n",
    "        g_t[7] = float(1.0)\n",
    "    \n",
    "    G_T[math.ceil(4*float(p[1]))-1,math.ceil(4*float(p[2]))-1] = g_t\n",
    "    \n",
    "    #print(g_t)\n",
    "    \n",
    "    #print([math.ceil(4*float(p[1]))-1,math.ceil(4*float(p[2]))-1])\n",
    "            "
   ]
  },
  {
   "cell_type": "code",
   "execution_count": 69,
   "id": "alive-louisiana",
   "metadata": {},
   "outputs": [
    {
     "data": {
      "text/plain": [
       "(4, 4, 8)"
      ]
     },
     "execution_count": 69,
     "metadata": {},
     "output_type": "execute_result"
    }
   ],
   "source": [
    "G_T.shape"
   ]
  },
  {
   "cell_type": "code",
   "execution_count": 51,
   "id": "cardiac-appointment",
   "metadata": {},
   "outputs": [
    {
     "data": {
      "text/plain": [
       "array([2.075428, 2.90244 , 0.201144, 0.121952, 4.      , 0.      ,\n",
       "       0.      , 4.      ])"
      ]
     },
     "execution_count": 51,
     "metadata": {},
     "output_type": "execute_result"
    }
   ],
   "source": [
    "4*np.array(g_t)"
   ]
  },
  {
   "cell_type": "code",
   "execution_count": 53,
   "id": "genuine-canon",
   "metadata": {},
   "outputs": [
    {
     "name": "stdout",
     "output_type": "stream",
     "text": [
      "4\n"
     ]
    }
   ],
   "source": [
    "import math\n",
    "print(int(math.ceil(4.0)))"
   ]
  },
  {
   "cell_type": "code",
   "execution_count": 71,
   "id": "irish-cliff",
   "metadata": {},
   "outputs": [],
   "source": [
    "img_list=os.listdir(\"images\")"
   ]
  },
  {
   "cell_type": "code",
   "execution_count": 73,
   "id": "analyzed-inside",
   "metadata": {},
   "outputs": [
    {
     "name": "stdout",
     "output_type": "stream",
     "text": [
      "fig_20210507_1605_3078_0002_15_18.txt\n",
      "fig_20210507_1605_3078_0015_15_18.txt\n"
     ]
    }
   ],
   "source": [
    "for img in img_list:\n",
    "    print(img.split(\".\")[0]+\".txt\")"
   ]
  },
  {
   "cell_type": "code",
   "execution_count": 74,
   "id": "driving-jason",
   "metadata": {},
   "outputs": [],
   "source": [
    "import cv2"
   ]
  },
  {
   "cell_type": "code",
   "execution_count": 94,
   "id": "large-stadium",
   "metadata": {},
   "outputs": [],
   "source": [
    "img = cv2.imread(\"images/fig_20210507_1605_3078_0002_15_18.png\")"
   ]
  },
  {
   "cell_type": "code",
   "execution_count": 95,
   "id": "thermal-retention",
   "metadata": {},
   "outputs": [],
   "source": [
    "gray = cv2.cvtColor(img, cv2.COLOR_BGR2GRAY)"
   ]
  },
  {
   "cell_type": "code",
   "execution_count": 96,
   "id": "statewide-patio",
   "metadata": {},
   "outputs": [],
   "source": [
    "gray_resize = cv2.resize(gray,(128,128))"
   ]
  },
  {
   "cell_type": "code",
   "execution_count": 100,
   "id": "burning-split",
   "metadata": {},
   "outputs": [
    {
     "data": {
      "text/plain": [
       "(128, 128, 1)"
      ]
     },
     "execution_count": 100,
     "metadata": {},
     "output_type": "execute_result"
    }
   ],
   "source": [
    "gray_resize.shape"
   ]
  },
  {
   "cell_type": "code",
   "execution_count": 98,
   "id": "approximate-attribute",
   "metadata": {},
   "outputs": [],
   "source": [
    "gray_resize=np.expand_dims(gray_resize, axis=2)"
   ]
  },
  {
   "cell_type": "code",
   "execution_count": 99,
   "id": "unavailable-monster",
   "metadata": {},
   "outputs": [
    {
     "data": {
      "text/plain": [
       "<matplotlib.image.AxesImage at 0x232b70c8860>"
      ]
     },
     "execution_count": 99,
     "metadata": {},
     "output_type": "execute_result"
    },
    {
     "data": {
      "image/png": "[encoded data removed]",
      "text/plain": [
       "<Figure size 432x288 with 1 Axes>"
      ]
     },
     "metadata": {
      "needs_background": "light"
     },
     "output_type": "display_data"
    }
   ],
   "source": [
    "from matplotlib import pyplot as plt\n",
    "\n",
    "plt.imshow(gray_resize)"
   ]
  },
  {
   "cell_type": "code",
   "execution_count": 105,
   "id": "worth-request",
   "metadata": {},
   "outputs": [],
   "source": [
    "def label_img(img_path,label_path):\n",
    "    \n",
    "    IMAGES = []\n",
    "    \n",
    "    LABELS = []\n",
    "    \n",
    "    img_list = os.listdir(img_path)\n",
    "    \n",
    "    for image_path in img_list:\n",
    "        \n",
    "        # Read image\n",
    "        img = cv2.imread(img_path + \"/\" + image_path)\n",
    "        #print(img_path + \"/\" + img_path)\n",
    "        gray = cv2.cvtColor(img, cv2.COLOR_BGR2GRAY)\n",
    "        gray_resize = cv2.resize(gray,(128,128))\n",
    "        gray_resize = np.expand_dims(gray_resize, axis=2)\n",
    "        IMAGES.append(gray_resize)\n",
    "        \n",
    "        # Read Labels\n",
    "        label_pth = label_path + \"/\" + image_path.split(\".\")[0]+\".txt\"\n",
    "        \n",
    "        with open(label_pth) as file:\n",
    "            lines = file.readlines()\n",
    "            lines = [line.rstrip() for line in lines]\n",
    "        \n",
    "        G_T = np.zeros((4,4,8))\n",
    "        \n",
    "        for line in lines:\n",
    "    \n",
    "            g_t = [0,0,0,0,0,0,0,0]\n",
    "    \n",
    "            p=line.split(\" \")\n",
    "    \n",
    "            g_t[0] = float(p[1])\n",
    "            g_t[1] = float(p[2])\n",
    "            g_t[2] = float(p[3])\n",
    "            g_t[3] = float(p[4])\n",
    "            g_t[4] = float(1.0)\n",
    "    \n",
    "            if p[0]==\"0\":\n",
    "                g_t[5] = float(1.0)\n",
    "            if p[0]==\"1\":\n",
    "                g_t[6] = float(1.0)\n",
    "            if p[0]==\"2\":\n",
    "                g_t[7] = float(1.0)\n",
    "    \n",
    "            G_T[math.ceil(4*float(p[1]))-1,math.ceil(4*float(p[2]))-1] = g_t\n",
    "        \n",
    "        LABELS.append(G_T)\n",
    "    \n",
    "    return IMAGES, LABELS"
   ]
  },
  {
   "cell_type": "code",
   "execution_count": 110,
   "id": "hydraulic-gender",
   "metadata": {},
   "outputs": [
    {
     "data": {
      "text/plain": [
       "(4, 4, 8)"
      ]
     },
     "execution_count": 110,
     "metadata": {},
     "output_type": "execute_result"
    }
   ],
   "source": []
  },
  {
   "cell_type": "code",
   "execution_count": 40,
   "id": "labeled-detail",
   "metadata": {},
   "outputs": [
    {
     "data": {
      "text/plain": [
       "array([[[0., 0., 0., 0., 0., 0., 0., 0.],\n",
       "        [0., 0., 0., 0., 0., 0., 0., 0.],\n",
       "        [0., 0., 0., 0., 0., 0., 0., 0.],\n",
       "        [0., 0., 0., 0., 0., 0., 0., 0.]],\n",
       "\n",
       "       [[0., 0., 0., 0., 0., 0., 0., 0.],\n",
       "        [0., 0., 0., 0., 0., 0., 0., 0.],\n",
       "        [0., 0., 0., 0., 0., 0., 0., 0.],\n",
       "        [0., 0., 0., 0., 0., 0., 0., 0.]],\n",
       "\n",
       "       [[0., 0., 0., 0., 0., 0., 0., 0.],\n",
       "        [0., 0., 0., 0., 0., 0., 0., 0.],\n",
       "        [0., 0., 0., 0., 0., 0., 0., 0.],\n",
       "        [0., 0., 0., 0., 0., 0., 0., 0.]],\n",
       "\n",
       "       [[0., 0., 0., 0., 0., 0., 0., 0.],\n",
       "        [0., 0., 0., 0., 0., 0., 0., 0.],\n",
       "        [0., 0., 0., 0., 0., 0., 0., 0.],\n",
       "        [0., 0., 0., 0., 0., 0., 0., 0.]]])"
      ]
     },
     "execution_count": 40,
     "metadata": {},
     "output_type": "execute_result"
    }
   ],
   "source": [
    "import numpy as np\n",
    "np.zeros((4,4,8))"
   ]
  },
  {
   "cell_type": "code",
   "execution_count": null,
   "id": "attached-sunday",
   "metadata": {},
   "outputs": [],
   "source": [
    "def my_loss_fn(y_true, y_pred):\n",
    "    squared_difference = tf.square(y_true - y_pred)\n",
    "    return tf.reduce_mean(squared_difference, axis=-1)  # Note the `axis=-1`\n",
    "\n",
    "model.compile(optimizer='adam', loss=my_loss_fn)\n"
   ]
  },
  {
   "cell_type": "code",
   "execution_count": 35,
   "id": "local-earthquake",
   "metadata": {},
   "outputs": [],
   "source": [
    "model = define_model()\n",
    "# compile model\n",
    "opt = SGD(learning_rate=0.01, momentum=0.9)\n",
    "model.compile(optimizer=opt, loss='categorical_crossentropy', metrics=['accuracy'])"
   ]
  },
  {
   "cell_type": "code",
   "execution_count": 36,
   "id": "whole-bread",
   "metadata": {},
   "outputs": [
    {
     "name": "stdout",
     "output_type": "stream",
     "text": [
      "Model: \"sequential_10\"\n",
      "_________________________________________________________________\n",
      "Layer (type)                 Output Shape              Param #   \n",
      "=================================================================\n",
      "conv2d_87 (Conv2D)           (None, 128, 128, 32)      320       \n",
      "_________________________________________________________________\n",
      "max_pooling2d_39 (MaxPooling (None, 64, 64, 32)        0         \n",
      "_________________________________________________________________\n",
      "conv2d_88 (Conv2D)           (None, 64, 64, 64)        18496     \n",
      "_________________________________________________________________\n",
      "conv2d_89 (Conv2D)           (None, 64, 64, 64)        4160      \n",
      "_________________________________________________________________\n",
      "max_pooling2d_40 (MaxPooling (None, 32, 32, 64)        0         \n",
      "_________________________________________________________________\n",
      "conv2d_90 (Conv2D)           (None, 32, 32, 64)        36928     \n",
      "_________________________________________________________________\n",
      "conv2d_91 (Conv2D)           (None, 32, 32, 32)        2080      \n",
      "_________________________________________________________________\n",
      "max_pooling2d_41 (MaxPooling (None, 16, 16, 32)        0         \n",
      "_________________________________________________________________\n",
      "conv2d_92 (Conv2D)           (None, 16, 16, 32)        9248      \n",
      "_________________________________________________________________\n",
      "conv2d_93 (Conv2D)           (None, 16, 16, 16)        528       \n",
      "_________________________________________________________________\n",
      "max_pooling2d_42 (MaxPooling (None, 8, 8, 16)          0         \n",
      "_________________________________________________________________\n",
      "conv2d_94 (Conv2D)           (None, 8, 8, 16)          2320      \n",
      "_________________________________________________________________\n",
      "conv2d_95 (Conv2D)           (None, 8, 8, 8)           136       \n",
      "_________________________________________________________________\n",
      "max_pooling2d_43 (MaxPooling (None, 4, 4, 8)           0         \n",
      "_________________________________________________________________\n",
      "conv2d_96 (Conv2D)           (None, 4, 4, 8)           72        \n",
      "=================================================================\n",
      "Total params: 74,288\n",
      "Trainable params: 74,288\n",
      "Non-trainable params: 0\n",
      "_________________________________________________________________\n"
     ]
    }
   ],
   "source": [
    "\n",
    "model.summary()"
   ]
  }
 ],
 "metadata": {
  "kernelspec": {
   "display_name": "Python 3",
   "language": "python",
   "name": "python3"
  },
  "language_info": {
   "codemirror_mode": {
    "name": "ipython",
    "version": 3
   },
   "file_extension": ".py",
   "mimetype": "text/x-python",
   "name": "python",
   "nbconvert_exporter": "python",
   "pygments_lexer": "ipython3",
   "version": "3.6.12"
  }
 },
 "nbformat": 4,
 "nbformat_minor": 5
}
