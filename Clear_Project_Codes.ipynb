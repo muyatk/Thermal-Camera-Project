{
 "cells": [
  {
   "cell_type": "code",
   "execution_count": null,
   "id": "detected-bibliography",
   "metadata": {},
   "outputs": [],
   "source": [
    "from tensorflow.keras.models import Sequential\n",
    "from tensorflow.keras.layers import Conv2D\n",
    "from tensorflow.keras.layers import MaxPooling2D, AveragePooling2D, Reshape, Flatten, Dense\n",
    "from tensorflow.keras.layers import Dense,Softmax\n",
    "from tensorflow.keras.layers import Flatten\n",
    "from tensorflow.keras.optimizers import SGD\n",
    "from tensorflow.keras.layers import BatchNormalization\n",
    "from matplotlib import pyplot as plt\n",
    "import cv2\n",
    "import math\n",
    "import os\n",
    "import numpy as np\n",
    "\n",
    "def define_model():\n",
    "\n",
    "    model = Sequential()\n",
    "    model.add(Conv2D(32, (3, 3), activation='relu',padding='same', input_shape=(128, 128, 1)))\n",
    "    model.add(MaxPooling2D((2, 2), strides=(2, 2), padding='same'))\n",
    "    model.add(Conv2D(64, (3, 3), activation='relu',padding='same'))\n",
    "    model.add(Conv2D(64, (1, 1), activation='relu'))\n",
    "    model.add(MaxPooling2D((2, 2)))\n",
    "    model.add(Conv2D(64, (3, 3), activation='relu',padding='same'))\n",
    "    model.add(Conv2D(32, (1, 1), activation='relu'))\n",
    "    model.add(MaxPooling2D((2, 2), strides=(2, 2), padding='same'))\n",
    "    model.add(Conv2D(32, (3, 3), activation='relu',padding='same'))\n",
    "    model.add(Conv2D(16, (1, 1), activation='relu'))\n",
    "    model.add(MaxPooling2D((2, 2), strides=(2, 2), padding='same'))\n",
    "    model.add(Conv2D(16, (3, 3), activation='relu',padding='same'))\n",
    "    model.add(Conv2D(8, (1, 1), activation='relu'))\n",
    "    model.add(MaxPooling2D((2, 2), strides=(2, 2), padding='same'))\n",
    "    model.add(Conv2D(8, (1, 1), activation='relu'))\n",
    "    model.add(Flatten())\n",
    "    model.add(Dense(128,activation=\"linear\"))\n",
    "    model.add(Reshape((4, 4,8)))\n",
    "    \n",
    "    return model"
   ]
  },
  {
   "cell_type": "code",
   "execution_count": null,
   "id": "boolean-vanilla",
   "metadata": {},
   "outputs": [],
   "source": [
    "model = define_model()\n",
    "model.summary()"
   ]
  },
  {
   "cell_type": "code",
   "execution_count": null,
   "id": "scientific-disability",
   "metadata": {},
   "outputs": [],
   "source": [
    "def xywh2minmax(xy, wh):\n",
    "    xy_min = xy - wh / 2\n",
    "    xy_max = xy + wh / 2\n",
    "\n",
    "    return xy_min, xy_max\n",
    "\n",
    "def bb_intersection_over_union(boxA, boxB):\n",
    "    # determine the (x, y)-coordinates of the intersection rectangle\n",
    "    xA = max(boxA[0], boxB[0])\n",
    "    yA = max(boxA[1], boxB[1])\n",
    "    xB = min(boxA[2], boxB[2])\n",
    "    yB = min(boxA[3], boxB[3])\n",
    "    # compute the area of intersection rectangle\n",
    "    interArea = max(0, xB - xA + 1) * max(0, yB - yA + 1)\n",
    "    # compute the area of both the prediction and ground-truth\n",
    "    # rectangles\n",
    "    boxAArea = (boxA[2] - boxA[0] + 1) * (boxA[3] - boxA[1] + 1)\n",
    "    boxBArea = (boxB[2] - boxB[0] + 1) * (boxB[3] - boxB[1] + 1)\n",
    "    # compute the intersection over union by taking the intersection\n",
    "    # area and dividing it by the sum of prediction + ground-truth\n",
    "    # areas - the interesection area\n",
    "    iou = interArea / float(boxAArea + boxBArea - interArea)\n",
    "    # return the intersection over union value\n",
    "    return iou"
   ]
  },
  {
   "cell_type": "code",
   "execution_count": null,
   "id": "pressed-activation",
   "metadata": {},
   "outputs": [],
   "source": [
    "def label_img(img_path,label_path):\n",
    "    \n",
    "    IMAGES = []\n",
    "    \n",
    "    LABELS = []\n",
    "    \n",
    "    img_list = os.listdir(img_path)\n",
    "    \n",
    "    for image_path in img_list:\n",
    "        \n",
    "        # Read image\n",
    "        img = cv2.imread(img_path + \"/\" + image_path)\n",
    "        #print(img_path + \"/\" + img_path)\n",
    "        gray = cv2.cvtColor(img, cv2.COLOR_BGR2GRAY)\n",
    "        gray_resize = cv2.resize(gray,(128,128))\n",
    "        gray_resize = np.expand_dims(gray_resize, axis=2)\n",
    "        IMAGES.append(gray_resize)\n",
    "        \n",
    "        # Read Labels\n",
    "        label_pth = label_path + \"/\" + image_path.split(\".\")[0]+\".txt\"\n",
    "        \n",
    "        with open(label_pth) as file:\n",
    "            lines = file.readlines()\n",
    "            lines = [line.rstrip() for line in lines]\n",
    "        \n",
    "        G_T = np.zeros((4,4,8))\n",
    "        \n",
    "        for line in lines:\n",
    "    \n",
    "            g_t = [0,0,0,0,0,0,0,0]\n",
    "    \n",
    "            p=line.split(\" \")\n",
    "    \n",
    "            g_t[0] = float(p[1])\n",
    "            g_t[1] = float(p[2])\n",
    "            g_t[2] = float(p[3])\n",
    "            g_t[3] = float(p[4])\n",
    "            g_t[4] = float(1.0)\n",
    "    \n",
    "            if p[0]==\"0\":\n",
    "                g_t[5] = float(1.0)\n",
    "            if p[0]==\"1\":\n",
    "                g_t[6] = float(1.0)\n",
    "            if p[0]==\"2\":\n",
    "                g_t[7] = float(1.0)\n",
    "    \n",
    "            G_T[math.ceil(4*float(p[1]))-1,math.ceil(4*float(p[2]))-1] = g_t\n",
    "        \n",
    "        LABELS.append(G_T)\n",
    "    \n",
    "    return IMAGES, LABELS"
   ]
  },
  {
   "cell_type": "code",
   "execution_count": null,
   "id": "utility-morris",
   "metadata": {},
   "outputs": [],
   "source": [
    "from matplotlib import pyplot as plt\n",
    "import cv2\n",
    "import math\n",
    "import os\n",
    "import numpy as np\n",
    "\n",
    "IMAGES, LABELS = label_img(\"images\",\"labels\")"
   ]
  },
  {
   "cell_type": "code",
   "execution_count": null,
   "id": "hired-champagne",
   "metadata": {},
   "outputs": [],
   "source": [
    "def iou_loss(y_true, y_pred):\n",
    "    # iou loss for bounding box prediction\n",
    "    # input must be as [x1, y1, x2, y2]\n",
    "    \n",
    "    # AOG = Area of Groundtruth box\n",
    "    AoG = K.abs(K.transpose(y_true)[2] - K.transpose(y_true)[0] + 1) * K.abs(K.transpose(y_true)[3] - K.transpose(y_true)[1] + 1)\n",
    "    \n",
    "    # AOP = Area of Predicted box\n",
    "    AoP = K.abs(K.transpose(y_pred)[2] - K.transpose(y_pred)[0] + 1) * K.abs(K.transpose(y_pred)[3] - K.transpose(y_pred)[1] + 1)\n",
    "\n",
    "    # overlaps are the co-ordinates of intersection box\n",
    "    overlap_0 = K.maximum(K.transpose(y_true)[0], K.transpose(y_pred)[0])\n",
    "    overlap_1 = K.maximum(K.transpose(y_true)[1], K.transpose(y_pred)[1])\n",
    "    overlap_2 = K.minimum(K.transpose(y_true)[2], K.transpose(y_pred)[2])\n",
    "    overlap_3 = K.minimum(K.transpose(y_true)[3], K.transpose(y_pred)[3])\n",
    "\n",
    "    # intersection area\n",
    "    intersection = (overlap_2 - overlap_0 + 1) * (overlap_3 - overlap_1 + 1)\n",
    "\n",
    "    # area of union of both boxes\n",
    "    union = AoG + AoP - intersection\n",
    "    \n",
    "    # iou calculation\n",
    "    iou = intersection / union\n",
    "\n",
    "    # bounding values of iou to (0,1)\n",
    "    iou = K.clip(iou, 0.0 + K.epsilon(), 1.0 - K.epsilon())\n",
    "\n",
    "    # loss for the iou value\n",
    "    iou_loss = -K.log(iou)\n",
    "\n",
    "    return iou_loss"
   ]
  },
  {
   "cell_type": "code",
   "execution_count": null,
   "id": "steady-portal",
   "metadata": {},
   "outputs": [],
   "source": [
    "def iou(pred_mins, pred_maxes, true_mins, true_maxes):\n",
    "    intersect_mins = K.maximum(pred_mins, true_mins)\n",
    "    intersect_maxes = K.minimum(pred_maxes, true_maxes)\n",
    "    intersect_wh = K.maximum(intersect_maxes - intersect_mins, 0.)\n",
    "    intersect_areas = intersect_wh[..., 0] * intersect_wh[..., 1]\n",
    "\n",
    "    pred_wh = pred_maxes - pred_mins\n",
    "    true_wh = true_maxes - true_mins\n",
    "    pred_areas = pred_wh[..., 0] * pred_wh[..., 1]\n",
    "    true_areas = true_wh[..., 0] * true_wh[..., 1]\n",
    "\n",
    "    union_areas = pred_areas + true_areas - intersect_areas\n",
    "    iou_scores = intersect_areas / union_areas\n",
    "\n",
    "    return iou_scores"
   ]
  },
  {
   "cell_type": "code",
   "execution_count": null,
   "id": "organized-twelve",
   "metadata": {},
   "outputs": [],
   "source": [
    "import tensorflow.keras.backend as K\n",
    "import tensorflow as tf\n",
    "\n",
    "def my_loss_fn(y_true, y_pred):\n",
    "    \n",
    "    ## IOU loss\n",
    "    \n",
    "    conf_pred = y_pred[..., 4:5]\n",
    "    conf_pred = K.sigmoid(conf_pred)\n",
    "    predict_trust = conf_pred\n",
    "    #y_pred = tf.cast(y_pred,dtype=\"float64\")\n",
    "    box_true = y_true[..., :4]\n",
    "    box_pred = y_pred[..., :4]\n",
    "    box_pred = K.sigmoid(box_pred)\n",
    "    \n",
    "    xy_min_pred, xy_max_pred = xywh2minmax(128*box_pred[..., :2],128*box_pred[..., 2:4])\n",
    "    xy_min_true, xy_max_true = xywh2minmax(128*box_true[..., :2],128*box_true[..., 2:4])\n",
    "    #################################################################\n",
    "    \n",
    "    response_mask = y_true[..., 5]  # ? * 7 * 7\n",
    "    response_mask = K.expand_dims(response_mask)  # ? * 7 * 7 * 1\n",
    "    \n",
    "    iou_scores = iou(xy_min_pred, xy_max_pred, xy_min_true, xy_max_true)\n",
    "    iou_scores = K.expand_dims(iou_scores)\n",
    "    iou_scores = K.expand_dims(iou_scores)\n",
    "    \n",
    "    best_ious = K.max(iou_scores, axis=4)  # ? * 7 * 7 * 2\n",
    "    best_box = K.max(best_ious, axis=3, keepdims=True)  # ? * 7 * 7 * 1\n",
    "\n",
    "    box_mask = K.cast(best_ious >= best_box, K.dtype(best_ious))  # ? * 7 * 7 * 2\n",
    "    \n",
    "    no_object_loss = 0.5 * (1 - box_mask * response_mask) * K.square(0 - predict_trust)\n",
    "    object_loss = box_mask * response_mask * K.square(1 - predict_trust)\n",
    "    confidence_loss = no_object_loss + object_loss\n",
    "    confidence_loss = K.sum(confidence_loss)\n",
    "\n",
    "    #################################################################\n",
    "    \n",
    "    #boxes_pred = K.concatenate((xy_min_pred, xy_max_pred),axis=3)\n",
    "    #boxes_true = K.concatenate((xy_min_true, xy_max_true),axis=3)\n",
    "    \n",
    "    #print(boxes_true)\n",
    "    #print(boxes_pred)\n",
    "    \n",
    "    #print(boxes_pred)\n",
    "    #print(boxes_true)\n",
    "    #print(iou_loss(boxes_true,boxes_pred))\n",
    "    \n",
    "    #box_loss=K.sum(iou_loss(boxes_true,boxes_pred))\n",
    "    #print(box_loss)\n",
    "    \n",
    "    \n",
    "    #for i in range(4):\n",
    "    #    for j in range(4):\n",
    "    #        box_loss = box_loss + (1-bb_intersection_over_union(boxes_pred[0][i][j],boxes_true[0][i][j]))\n",
    "    \n",
    "    \n",
    "    ###############################################\n",
    "    \n",
    "    #conf_true = y_true[..., 4:5]\n",
    "    #conf_pred = y_pred[..., 4:5]\n",
    "    #conf_pred = K.sigmoid(conf_pred)\n",
    "    \n",
    "    #conf_loss = K.square(conf_true - conf_pred)\n",
    "    #conf_loss = K.sum(conf_loss)\n",
    "    #print(conf_loss)\n",
    "    \n",
    "    class_true = y_true[..., 5:8]\n",
    "    class_pred = y_pred[..., 5:8]\n",
    "    class_pred = K.softmax(class_pred)\n",
    "    \n",
    "    class_loss = response_mask * K.square(class_true - class_pred)\n",
    "    class_loss = K.sum(class_loss)\n",
    "    \n",
    "    \n",
    "    box_mask = K.expand_dims(box_mask)\n",
    "    response_mask = K.expand_dims(response_mask)\n",
    "    \n",
    "    label_xy = 128*box_true[..., :2]\n",
    "    label_wh = 128*box_true[..., 2:4]\n",
    "    \n",
    "    predict_xy = 128*box_pred[..., :2]\n",
    "    predict_wh = 128*box_pred[..., 2:4]\n",
    "\n",
    "    box_loss = 5 * box_mask * response_mask * K.square((label_xy - predict_xy) / 128)\n",
    "    box_loss += 5 * box_mask * response_mask * K.square((K.sqrt(label_wh) - K.sqrt(predict_wh)) / 128)\n",
    "    box_loss = K.sum(box_loss)\n",
    "    \n",
    "    loss = box_loss + confidence_loss + class_loss\n",
    "    \n",
    "    return loss"
   ]
  },
  {
   "cell_type": "code",
   "execution_count": null,
   "id": "ranging-relief",
   "metadata": {},
   "outputs": [],
   "source": [
    "LABELS[0]"
   ]
  },
  {
   "cell_type": "code",
   "execution_count": null,
   "id": "korean-bridal",
   "metadata": {},
   "outputs": [],
   "source": [
    "np.expand"
   ]
  },
  {
   "cell_type": "code",
   "execution_count": null,
   "id": "peaceful-usage",
   "metadata": {},
   "outputs": [],
   "source": [
    "np.expand_dims(LABELS[0],axis=0).shape"
   ]
  },
  {
   "cell_type": "code",
   "execution_count": null,
   "id": "loaded-preliminary",
   "metadata": {},
   "outputs": [],
   "source": [
    "prediction.shape"
   ]
  },
  {
   "cell_type": "code",
   "execution_count": null,
   "id": "optional-onion",
   "metadata": {},
   "outputs": [],
   "source": [
    "import tensorflow as tf\n",
    "tf.cast(prediction,dtype=\"float32\")"
   ]
  },
  {
   "cell_type": "code",
   "execution_count": null,
   "id": "metropolitan-riding",
   "metadata": {},
   "outputs": [],
   "source": [
    "import tensorflow as tf\n",
    "\n",
    "#tf.cast(\n",
    "#    x, dtype=float64, name=None\n",
    "#)\n",
    "\n",
    "y_true = label\n",
    "y_pred = pred\n",
    "\n",
    "box_true = y_true[..., :4]\n",
    "box_pred = y_pred[..., :4]\n",
    "box_pred = K.sigmoid(box_pred)\n",
    "    \n",
    "xy_min_pred, xy_max_pred = xywh2minmax(128*y_pred[..., :2],128*y_pred[..., 2:4])\n",
    "xy_min_true, xy_max_true = xywh2minmax(128*y_true[..., :2],128*y_true[..., 2:4])\n",
    "    \n",
    "boxes_pred = K.concatenate((xy_min_pred, xy_max_pred),axis=3)\n",
    "boxes_true = K.concatenate((xy_min_true, xy_max_true),axis=3)\n",
    "    \n",
    "    #print(boxes_true)\n",
    "    #print(boxes_pred)\n",
    "    \n",
    "    #print(boxes_pred)\n",
    "    #print(boxes_true)\n",
    "print(boxes_true)\n",
    "print(boxes_pred)\n",
    "K.sum(iou_loss(boxes_true,boxes_pred))"
   ]
  },
  {
   "cell_type": "code",
   "execution_count": null,
   "id": "upset-silence",
   "metadata": {},
   "outputs": [],
   "source": [
    "model.compile(optimizer='adam', loss=my_loss_fn)"
   ]
  },
  {
   "cell_type": "code",
   "execution_count": null,
   "id": "partial-twelve",
   "metadata": {},
   "outputs": [],
   "source": [
    "IMAGES = tf.cast(np.array(IMAGES)/255.,dtype=\"float32\")\n",
    "LABELS = tf.cast(LABELS,dtype=\"float32\")"
   ]
  },
  {
   "cell_type": "code",
   "execution_count": null,
   "id": "classical-commons",
   "metadata": {},
   "outputs": [],
   "source": [
    "model.predict(IMAGES[10:11])"
   ]
  },
  {
   "cell_type": "code",
   "execution_count": null,
   "id": "fantastic-teaching",
   "metadata": {},
   "outputs": [],
   "source": [
    "LABELS.shape"
   ]
  },
  {
   "cell_type": "code",
   "execution_count": null,
   "id": "emotional-lecture",
   "metadata": {},
   "outputs": [],
   "source": [
    "IMAGES.shape"
   ]
  },
  {
   "cell_type": "code",
   "execution_count": null,
   "id": "handed-daily",
   "metadata": {},
   "outputs": [],
   "source": [
    "pred = model.predict(IMAGES[0:1])"
   ]
  },
  {
   "cell_type": "code",
   "execution_count": null,
   "id": "cordless-artist",
   "metadata": {},
   "outputs": [],
   "source": [
    "pred"
   ]
  },
  {
   "cell_type": "code",
   "execution_count": null,
   "id": "serious-center",
   "metadata": {},
   "outputs": [],
   "source": [
    "label = np.expand_dims(LABELS[0], axis=0)"
   ]
  },
  {
   "cell_type": "code",
   "execution_count": null,
   "id": "aggressive-xerox",
   "metadata": {},
   "outputs": [],
   "source": [
    "import tensorflow as tf\n",
    "label = tf.cast(label,dtype=\"float32\")"
   ]
  },
  {
   "cell_type": "code",
   "execution_count": null,
   "id": "athletic-adams",
   "metadata": {},
   "outputs": [],
   "source": [
    "label"
   ]
  },
  {
   "cell_type": "code",
   "execution_count": null,
   "id": "serious-robert",
   "metadata": {},
   "outputs": [],
   "source": [
    "pred"
   ]
  },
  {
   "cell_type": "code",
   "execution_count": null,
   "id": "industrial-rebate",
   "metadata": {},
   "outputs": [],
   "source": [
    "iou_loss(LABELS[0],LABELS[0])"
   ]
  },
  {
   "cell_type": "code",
   "execution_count": null,
   "id": "lyric-bones",
   "metadata": {},
   "outputs": [],
   "source": []
  },
  {
   "cell_type": "code",
   "execution_count": null,
   "id": "shared-chosen",
   "metadata": {},
   "outputs": [],
   "source": [
    "prediction = model.predict(IMAGES[0:1])"
   ]
  },
  {
   "cell_type": "code",
   "execution_count": null,
   "id": "verified-reservoir",
   "metadata": {},
   "outputs": [],
   "source": [
    "prediction.shape"
   ]
  },
  {
   "cell_type": "code",
   "execution_count": null,
   "id": "assigned-journalist",
   "metadata": {},
   "outputs": [],
   "source": [
    "type(LABELS[0])"
   ]
  },
  {
   "cell_type": "code",
   "execution_count": null,
   "id": "guilty-fellow",
   "metadata": {},
   "outputs": [],
   "source": [
    "model.fit(x=IMAGES, y=LABELS, batch_size=1, epochs=20)"
   ]
  },
  {
   "cell_type": "code",
   "execution_count": null,
   "id": "rural-mystery",
   "metadata": {},
   "outputs": [],
   "source": []
  },
  {
   "cell_type": "code",
   "execution_count": null,
   "id": "adult-cooling",
   "metadata": {},
   "outputs": [],
   "source": [
    "LABELS[15]"
   ]
  },
  {
   "cell_type": "code",
   "execution_count": null,
   "id": "solved-soccer",
   "metadata": {},
   "outputs": [],
   "source": [
    "def predict_img(image):\n",
    "    output = model.predict(image)\n",
    "    box_pred = output[..., :4]\n",
    "    box_pred = K.sigmoid(box_pred)\n",
    "    \n",
    "    conf_pred = output[..., 4:5]\n",
    "    conf_pred = K.sigmoid(conf_pred)\n",
    "    \n",
    "    class_pred = output[..., 5:8]\n",
    "    class_pred = K.softmax(class_pred)\n",
    "    \n",
    "    out = K.concatenate((box_pred, conf_pred),axis=3)\n",
    "    out = K.concatenate((out, class_pred),axis=3)\n",
    "    \n",
    "    return out\n",
    "    \n",
    "    ###### PREDICTION FUNCTION WROTE ###########"
   ]
  },
  {
   "cell_type": "code",
   "execution_count": null,
   "id": "green-gilbert",
   "metadata": {},
   "outputs": [],
   "source": [
    "prediction = predict_img(IMAGES[10:11])"
   ]
  },
  {
   "cell_type": "code",
   "execution_count": null,
   "id": "tutorial-wright",
   "metadata": {},
   "outputs": [],
   "source": [
    "prediction.shape"
   ]
  },
  {
   "cell_type": "code",
   "execution_count": null,
   "id": "sufficient-reach",
   "metadata": {},
   "outputs": [],
   "source": [
    "prediction"
   ]
  },
  {
   "cell_type": "code",
   "execution_count": null,
   "id": "nervous-costa",
   "metadata": {},
   "outputs": [],
   "source": [
    "prediction"
   ]
  },
  {
   "cell_type": "code",
   "execution_count": null,
   "id": "three-fellowship",
   "metadata": {},
   "outputs": [],
   "source": [
    "predict_class = prediction[..., 5:8]  # 1 * 7 * 7 * 20\n",
    "predict_trust = prediction[..., 4:5]  # 1 * 7 * 7 * 2\n",
    "predict_box = prediction[..., :4]  # 1 * 7 * 7 * 8\n",
    "\n",
    "predict_class = np.reshape(predict_class, [4, 4, 1, 3])\n",
    "predict_trust = np.reshape(predict_trust, [4, 4, 1, 1])\n",
    "predict_box = np.reshape(predict_box, [4, 4, 1, 4])\n",
    "\n",
    "predict_scores = predict_class * predict_trust  # 7 * 7 * 2 * 20\n",
    "#print(predict_scores)\n",
    "\n",
    "box_classes = np.argmax(predict_scores, axis=-1)  # 7 * 7 * 2\n",
    "box_class_scores = np.max(predict_scores, axis=-1)  # 7 * 7 * 2\n",
    "best_box_class_scores = np.max(box_class_scores, axis=-1, keepdims=True)  # 7 * 7 * 1\n",
    "\n",
    "box_mask = box_class_scores >= best_box_class_scores  # ? * 7 * 7 * 2\n",
    "\n",
    "filter_mask = box_class_scores >= 0.1  # 7 * 7 * 2\n",
    "filter_mask *= box_mask  # 7 * 7 * 2\n",
    "\n",
    "filter_mask = np.expand_dims(filter_mask, axis=-1)  # 7 * 7 * 2 * 1\n",
    "\n",
    "\n",
    "predict_scores *= filter_mask  # 7 * 7 * 2 * 20\n",
    "pred = predict_box.copy()\n",
    "pred *= filter_mask  # 7 * 7 * 2 * 4\n",
    "\n",
    "box_classes = np.expand_dims(box_classes, axis=-1)\n",
    "box_classes *= filter_mask  # 7 * 7 * 2 * 1\n",
    "\n",
    "#box_xy, box_wh = yolo_head(predict_box)  # 7 * 7 * 2 * 2\n",
    "box_xy_min, box_xy_max = xywh2minmax(128*pred[..., :2],128*pred[..., 2:4])  # 7 * 7 * 2 * 2"
   ]
  },
  {
   "cell_type": "code",
   "execution_count": null,
   "id": "considered-sensitivity",
   "metadata": {},
   "outputs": [],
   "source": [
    "pred_t = predict_trust.copy()\n",
    "pred_t *= filter_mask  # 7 * 7 * 2 * 1\n",
    "nms_mask = np.zeros_like(filter_mask)  # 7 * 7 * 2 * 1\n",
    "predict_trust_max = np.max(pred_t)  # 找到置信度最高的框\n",
    "max_i = max_j = max_k = 0\n",
    "while predict_trust_max > 0:\n",
    "    for i in range(nms_mask.shape[0]):\n",
    "        for j in range(nms_mask.shape[1]):\n",
    "            for k in range(nms_mask.shape[2]):\n",
    "                if predict_trust[i, j, k, 0] == predict_trust_max:\n",
    "                    nms_mask[i, j, k, 0] = 1\n",
    "                    filter_mask[i, j, k, 0] = 0\n",
    "                    max_i = i\n",
    "                    max_j = j\n",
    "                    max_k = k\n",
    "    for i in range(nms_mask.shape[0]):\n",
    "        for j in range(nms_mask.shape[1]):\n",
    "            for k in range(nms_mask.shape[2]):\n",
    "                if filter_mask[i, j, k, 0] == 1:\n",
    "                    iou_score = iou(box_xy_min[max_i, max_j, max_k, :],\n",
    "                                    box_xy_max[max_i, max_j, max_k, :],\n",
    "                                    box_xy_min[i, j, k, :],\n",
    "                                    box_xy_max[i, j, k, :])\n",
    "                    if iou_score > 0.2:\n",
    "                        filter_mask[i, j, k, 0] = 0\n",
    "    pred_t *= filter_mask  # 7 * 7 * 2 * 1\n",
    "    predict_trust_max = np.max(pred_t)  # 找到置信度最高的框\n",
    "\n",
    "box_xy_min *= nms_mask\n",
    "box_xy_max *= nms_mask"
   ]
  },
  {
   "cell_type": "code",
   "execution_count": null,
   "id": "active-folks",
   "metadata": {},
   "outputs": [],
   "source": [
    "box_xy_min"
   ]
  },
  {
   "cell_type": "code",
   "execution_count": null,
   "id": "first-charger",
   "metadata": {},
   "outputs": [],
   "source": [
    "classes_name=[\"human\",\"static\",\"ignore\"]"
   ]
  },
  {
   "cell_type": "code",
   "execution_count": null,
   "id": "single-service",
   "metadata": {},
   "outputs": [],
   "source": [
    "detect_shape = filter_mask.shape\n",
    "\n",
    "for i in range(detect_shape[0]):\n",
    "    for j in range(detect_shape[1]):\n",
    "        for k in range(detect_shape[2]):\n",
    "            if nms_mask[i, j, k, 0]:\n",
    "                cv2.rectangle(image, (int(box_xy_min[i, j, k, 0]), int(box_xy_min[i, j, k, 1])),\n",
    "                                (int(box_xy_max[i, j, k, 0]), int(box_xy_max[i, j, k, 1])),(0, 0, 255))\n",
    "                cv2.putText(image, classes_name[box_classes[i, j, k, 0]],\n",
    "                            (int(box_xy_min[i, j, k, 0]), int(box_xy_min[i, j, k, 1])),1, 1, (0, 0, 255))"
   ]
  },
  {
   "cell_type": "code",
   "execution_count": null,
   "id": "straight-oregon",
   "metadata": {},
   "outputs": [],
   "source": [
    "plt.imshow(image)"
   ]
  },
  {
   "cell_type": "code",
   "execution_count": null,
   "id": "level-trunk",
   "metadata": {},
   "outputs": [],
   "source": [
    "pred"
   ]
  },
  {
   "cell_type": "code",
   "execution_count": null,
   "id": "promising-latvia",
   "metadata": {},
   "outputs": [],
   "source": [
    "prediction"
   ]
  },
  {
   "cell_type": "code",
   "execution_count": null,
   "id": "opposite-learning",
   "metadata": {},
   "outputs": [],
   "source": [
    "LABELS[10]"
   ]
  },
  {
   "cell_type": "code",
   "execution_count": null,
   "id": "judicial-prisoner",
   "metadata": {},
   "outputs": [],
   "source": [
    "xywh2minmax(128*np.array([0.229143, 0.585366]),128*np.array([0.195429, 0.411585]))"
   ]
  },
  {
   "cell_type": "code",
   "execution_count": null,
   "id": "revolutionary-safety",
   "metadata": {},
   "outputs": [],
   "source": [
    "image = np.array(IMAGES[10])*255\n",
    "\n",
    "start_point = (17, 48)\n",
    "end_point = ( 42 , 101)\n",
    "color = (255, 0, 0)\n",
    "thickness = 2\n",
    "\n",
    "image = cv2.rectangle(image, start_point, end_point, color, thickness)\n",
    "\n",
    "plt.imshow(image)"
   ]
  },
  {
   "cell_type": "code",
   "execution_count": null,
   "id": "younger-scott",
   "metadata": {},
   "outputs": [],
   "source": [
    "np.argmax(x,axis=3)"
   ]
  },
  {
   "cell_type": "code",
   "execution_count": null,
   "id": "compliant-artwork",
   "metadata": {},
   "outputs": [],
   "source": [
    "np.argmax(np.array([0.3333226 , 0.33326322, 0.33341417]))"
   ]
  },
  {
   "cell_type": "code",
   "execution_count": null,
   "id": "brief-interpretation",
   "metadata": {},
   "outputs": [],
   "source": [
    "def non_max_supression():\n",
    "    ###### NMS FUNCTION WROTE ###############"
   ]
  },
  {
   "cell_type": "code",
   "execution_count": null,
   "id": "stainless-message",
   "metadata": {},
   "outputs": [],
   "source": [
    "def iou_loss(y_true, y_pred):\n",
    "    # iou loss for bounding box prediction\n",
    "    # input must be as [x1, y1, x2, y2]\n",
    "    \n",
    "    # AOG = Area of Groundtruth box\n",
    "    AoG = K.abs(K.transpose(y_true)[2] - K.transpose(y_true)[0] + 1) * K.abs(K.transpose(y_true)[3] - K.transpose(y_true)[1] + 1)\n",
    "    \n",
    "    # AOP = Area of Predicted box\n",
    "    AoP = K.abs(K.transpose(y_pred)[2] - K.transpose(y_pred)[0] + 1) * K.abs(K.transpose(y_pred)[3] - K.transpose(y_pred)[1] + 1)\n",
    "\n",
    "    # overlaps are the co-ordinates of intersection box\n",
    "    overlap_0 = K.maximum(K.transpose(y_true)[0], K.transpose(y_pred)[0])\n",
    "    overlap_1 = K.maximum(K.transpose(y_true)[1], K.transpose(y_pred)[1])\n",
    "    overlap_2 = K.minimum(K.transpose(y_true)[2], K.transpose(y_pred)[2])\n",
    "    overlap_3 = K.minimum(K.transpose(y_true)[3], K.transpose(y_pred)[3])\n",
    "\n",
    "    # intersection area\n",
    "    intersection = (overlap_2 - overlap_0 + 1) * (overlap_3 - overlap_1 + 1)\n",
    "\n",
    "    # area of union of both boxes\n",
    "    union = AoG + AoP - intersection\n",
    "    \n",
    "    # iou calculation\n",
    "    iou = intersection / union\n",
    "\n",
    "    # bounding values of iou to (0,1)\n",
    "    iou = K.clip(iou, 0.0 + K.epsilon(), 1.0 - K.epsilon())\n",
    "\n",
    "    # loss for the iou value\n",
    "    iou_loss = -K.log(iou)\n",
    "\n",
    "    return iou_loss"
   ]
  },
  {
   "cell_type": "code",
   "execution_count": null,
   "id": "developed-jurisdiction",
   "metadata": {},
   "outputs": [],
   "source": []
  },
  {
   "cell_type": "code",
   "execution_count": null,
   "id": "eastern-meeting",
   "metadata": {},
   "outputs": [],
   "source": [
    "import tensorflow.keras.backend as K\n",
    "K.sigmoid((0.25))"
   ]
  },
  {
   "cell_type": "code",
   "execution_count": null,
   "id": "loose-exclusion",
   "metadata": {},
   "outputs": [],
   "source": [
    "label = LABELS[0][..., :4]"
   ]
  },
  {
   "cell_type": "code",
   "execution_count": null,
   "id": "blond-tunisia",
   "metadata": {},
   "outputs": [],
   "source": [
    "label = LABELS[0]"
   ]
  },
  {
   "cell_type": "code",
   "execution_count": null,
   "id": "tropical-sheet",
   "metadata": {},
   "outputs": [],
   "source": [
    "label.shape"
   ]
  },
  {
   "cell_type": "code",
   "execution_count": null,
   "id": "moderate-settlement",
   "metadata": {},
   "outputs": [],
   "source": [
    "label = LABELS[0]"
   ]
  },
  {
   "cell_type": "code",
   "execution_count": null,
   "id": "unlikely-superintendent",
   "metadata": {},
   "outputs": [],
   "source": [
    "label[..., 4:5].shape"
   ]
  },
  {
   "cell_type": "code",
   "execution_count": null,
   "id": "preceding-environment",
   "metadata": {},
   "outputs": [],
   "source": [
    "label[..., 5:8]"
   ]
  },
  {
   "cell_type": "code",
   "execution_count": null,
   "id": "particular-amendment",
   "metadata": {},
   "outputs": [],
   "source": [
    "label = np.expand_dims(label, axis=0)"
   ]
  },
  {
   "cell_type": "code",
   "execution_count": null,
   "id": "hazardous-annotation",
   "metadata": {},
   "outputs": [],
   "source": [
    "label[..., :2]"
   ]
  },
  {
   "cell_type": "code",
   "execution_count": null,
   "id": "effective-developer",
   "metadata": {},
   "outputs": [],
   "source": [
    "deneme = np.random.rand(4,4,4)"
   ]
  },
  {
   "cell_type": "code",
   "execution_count": null,
   "id": "opponent-yukon",
   "metadata": {},
   "outputs": [],
   "source": [
    "xxx = K.sigmoid(label[..., :4])"
   ]
  },
  {
   "cell_type": "code",
   "execution_count": null,
   "id": "analyzed-article",
   "metadata": {},
   "outputs": [],
   "source": [
    "K.softmax(label[..., 5:8])"
   ]
  },
  {
   "cell_type": "code",
   "execution_count": null,
   "id": "cultural-illinois",
   "metadata": {},
   "outputs": [],
   "source": [
    "box_loss = K.square(label[..., :4] - xxx)"
   ]
  },
  {
   "cell_type": "code",
   "execution_count": null,
   "id": "advanced-going",
   "metadata": {},
   "outputs": [],
   "source": [
    "K.sum(box_loss)"
   ]
  },
  {
   "cell_type": "code",
   "execution_count": null,
   "id": "located-michael",
   "metadata": {},
   "outputs": [],
   "source": [
    "bb_intersection_over_union([16.822848, 77.853632, 22.820544,  94.438976],[17,50,23,95])"
   ]
  },
  {
   "cell_type": "code",
   "execution_count": null,
   "id": "completed-korea",
   "metadata": {},
   "outputs": [],
   "source": [
    "xywh2minmax(128*label[..., :2],128*label[..., 2:4])[0]"
   ]
  },
  {
   "cell_type": "code",
   "execution_count": null,
   "id": "social-diana",
   "metadata": {},
   "outputs": [],
   "source": [
    "xywh2minmax(128*label[..., :2],128*label[..., 2:4])[1]"
   ]
  },
  {
   "cell_type": "code",
   "execution_count": null,
   "id": "interior-princess",
   "metadata": {},
   "outputs": [],
   "source": [
    "aa=xywh2minmax(128*label[..., :2],128*label[..., 2:4])[0]"
   ]
  },
  {
   "cell_type": "code",
   "execution_count": null,
   "id": "configured-truck",
   "metadata": {},
   "outputs": [],
   "source": [
    "bb=xywh2minmax(128*label[..., :2],128*label[..., 2:4])[1]"
   ]
  },
  {
   "cell_type": "code",
   "execution_count": null,
   "id": "manufactured-interface",
   "metadata": {},
   "outputs": [],
   "source": [
    "tt=np.concatenate((aa,bb),axis=3)"
   ]
  },
  {
   "cell_type": "code",
   "execution_count": null,
   "id": "victorian-duration",
   "metadata": {},
   "outputs": [],
   "source": [
    "tt.shape"
   ]
  },
  {
   "cell_type": "code",
   "execution_count": null,
   "id": "limited-devon",
   "metadata": {},
   "outputs": [],
   "source": [
    "iou_loss(tt,)"
   ]
  },
  {
   "cell_type": "code",
   "execution_count": null,
   "id": "popular-sixth",
   "metadata": {},
   "outputs": [],
   "source": [
    "aa.shape"
   ]
  },
  {
   "cell_type": "code",
   "execution_count": null,
   "id": "academic-share",
   "metadata": {},
   "outputs": [],
   "source": [
    "for i in range(4):\n",
    "    for j in range(4):\n",
    "        print(bb_intersection_over_union(np.concatenate((aa,bb),axis=3)[0][i][j],np.concatenate((aa,bb),axis=3)[0][i][j]))"
   ]
  },
  {
   "cell_type": "code",
   "execution_count": null,
   "id": "impressed-tobago",
   "metadata": {},
   "outputs": [],
   "source": []
  },
  {
   "cell_type": "code",
   "execution_count": null,
   "id": "secure-masters",
   "metadata": {},
   "outputs": [],
   "source": [
    "bb_intersection_over_union(np.concatenate((aa,bb),axis=3),np.concatenate((aa,bb),axis=3))"
   ]
  },
  {
   "cell_type": "code",
   "execution_count": null,
   "id": "secure-index",
   "metadata": {},
   "outputs": [],
   "source": [
    "from tensorflow.keras.layers import Conv2D, MaxPooling2D, Flatten, Dense, Reshape, LeakyReLU\n",
    "from tensorflow.keras.layers import BatchNormalization\n",
    "from tensorflow.keras.regularizers import l2\n",
    "from tensorflow.keras.layers import Layer\n",
    "import tensorflow.keras.backend as K\n",
    "from tensorflow.keras.layers import Input\n",
    "from tensorflow.keras.models import Model\n",
    "\n",
    "\n",
    "def model_tiny_yolov1(inputs):\n",
    "    x = Conv2D(2, (3, 3), padding='same', name='convolutional_0', use_bias=False,\n",
    "               kernel_regularizer=l2(5e-4), trainable=False)(inputs)\n",
    "    x = BatchNormalization(name='bnconvolutional_0', trainable=False)(x)\n",
    "    x = LeakyReLU(alpha=0.1)(x)\n",
    "    x = MaxPooling2D((2, 2), strides=(2, 2), padding='same')(x)\n",
    "\n",
    "    x = Conv2D(4, (3, 3), padding='same', name='convolutional_1', use_bias=False,\n",
    "               kernel_regularizer=l2(5e-4), trainable=False)(x)\n",
    "    x = BatchNormalization(name='bnconvolutional_1', trainable=False)(x)\n",
    "    x = LeakyReLU(alpha=0.1)(x)\n",
    "    x = MaxPooling2D((2, 2), strides=(2, 2), padding='same')(x)\n",
    "\n",
    "    x = Conv2D(16, (3, 3), padding='same', name='convolutional_2', use_bias=False,\n",
    "               kernel_regularizer=l2(5e-4), trainable=False)(x)\n",
    "    x = BatchNormalization(name='bnconvolutional_2', trainable=False)(x)\n",
    "    x = LeakyReLU(alpha=0.1)(x)\n",
    "    x = MaxPooling2D((2, 2), strides=(2, 2), padding='same')(x)\n",
    "\n",
    "    x = Conv2D(16, (3, 3), padding='same', name='convolutional_3', use_bias=False,\n",
    "               kernel_regularizer=l2(5e-4), trainable=False)(x)\n",
    "    x = BatchNormalization(name='bnconvolutional_3', trainable=False)(x)\n",
    "    x = LeakyReLU(alpha=0.1)(x)\n",
    "    x = MaxPooling2D((2, 2), strides=(2, 2), padding='same')(x)\n",
    "\n",
    "    x = Conv2D(32, (3, 3), padding='same', name='convolutional_4', use_bias=False,\n",
    "               kernel_regularizer=l2(5e-4), trainable=False)(x)\n",
    "    x = BatchNormalization(name='bnconvolutional_4', trainable=False)(x)\n",
    "    x = LeakyReLU(alpha=0.1)(x)\n",
    "    x = MaxPooling2D((2, 2), strides=(2, 2), padding='same')(x)\n",
    "\n",
    "    x = Conv2D(64, (3, 3), padding='same', name='convolutional_5', use_bias=False,\n",
    "               kernel_regularizer=l2(5e-4), trainable=False)(x)\n",
    "    x = BatchNormalization(name='bnconvolutional_5', trainable=False)(x)\n",
    "    x = LeakyReLU(alpha=0.1)(x)\n",
    "    x = MaxPooling2D((2, 2), strides=(2, 2), padding='same')(x)\n",
    "\n",
    "    x = Conv2D(128, (3, 3), padding='same', name='convolutional_6', use_bias=False,\n",
    "               kernel_regularizer=l2(5e-4), trainable=False)(x)\n",
    "    x = BatchNormalization(name='bnconvolutional_6', trainable=False)(x)\n",
    "    x = LeakyReLU(alpha=0.1)(x)\n",
    "\n",
    "    x = Conv2D(64, (3, 3), padding='same', name='convolutional_7', use_bias=False,\n",
    "               kernel_regularizer=l2(5e-4), trainable=False)(x)\n",
    "    x = BatchNormalization(name='bnconvolutional_7', trainable=False)(x)\n",
    "    x = LeakyReLU(alpha=0.1)(x)\n",
    "\n",
    "    x = Flatten()(x)\n",
    "    x = Dense(128, activation='linear', name='connected_0')(x)\n",
    "    x = Reshape((4, 4, 8))(x)\n",
    "    #outputs = Yolo_Reshape((4, 4, 7))(x)\n",
    "\n",
    "    return x"
   ]
  },
  {
   "cell_type": "code",
   "execution_count": null,
   "id": "pleased-energy",
   "metadata": {},
   "outputs": [],
   "source": [
    "input_shape = (1, 128, 128, 1)\n",
    "\n",
    "inputs = Input(input_shape[1:4])\n",
    "\n",
    "model = model_tiny_yolov1(inputs)"
   ]
  },
  {
   "cell_type": "code",
   "execution_count": null,
   "id": "unauthorized-translation",
   "metadata": {},
   "outputs": [],
   "source": [
    "outputs = model_tiny_yolov1(inputs)\n",
    "model = Model(inputs=inputs, outputs=outputs)"
   ]
  },
  {
   "cell_type": "code",
   "execution_count": null,
   "id": "registered-replication",
   "metadata": {},
   "outputs": [],
   "source": [
    "model.summary()"
   ]
  },
  {
   "cell_type": "code",
   "execution_count": null,
   "id": "constant-merchant",
   "metadata": {},
   "outputs": [],
   "source": []
  },
  {
   "cell_type": "code",
   "execution_count": null,
   "id": "heavy-fence",
   "metadata": {},
   "outputs": [],
   "source": [
    "import tensorflow.keras.backend as K\n",
    "\n",
    "\n",
    "def xywh2minmax(xy, wh):\n",
    "    xy_min = xy - wh / 2\n",
    "    xy_max = xy + wh / 2\n",
    "\n",
    "    return xy_min, xy_max\n",
    "\n",
    "\n",
    "def iou(pred_mins, pred_maxes, true_mins, true_maxes):\n",
    "    intersect_mins = K.maximum(pred_mins, true_mins)\n",
    "    intersect_maxes = K.minimum(pred_maxes, true_maxes)\n",
    "    intersect_wh = K.maximum(intersect_maxes - intersect_mins, 0.)\n",
    "    intersect_areas = intersect_wh[..., 0] * intersect_wh[..., 1]\n",
    "\n",
    "    pred_wh = pred_maxes - pred_mins\n",
    "    true_wh = true_maxes - true_mins\n",
    "    pred_areas = pred_wh[..., 0] * pred_wh[..., 1]\n",
    "    true_areas = true_wh[..., 0] * true_wh[..., 1]\n",
    "\n",
    "    union_areas = pred_areas + true_areas - intersect_areas\n",
    "    iou_scores = intersect_areas / union_areas\n",
    "\n",
    "    return iou_scores\n",
    "\n",
    "\n",
    "def yolo_head(feats):\n",
    "    # Dynamic implementation of conv dims for fully convolutional model.\n",
    "    conv_dims = K.shape(feats)[1:3]  # assuming channels last\n",
    "    # In YOLO the height index is the inner most iteration.\n",
    "    conv_height_index = K.arange(0, stop=conv_dims[0])\n",
    "    conv_width_index = K.arange(0, stop=conv_dims[1])\n",
    "    conv_height_index = K.tile(conv_height_index, [conv_dims[1]])\n",
    "\n",
    "    # TODO: Repeat_elements and tf.split doesn't support dynamic splits.\n",
    "    # conv_width_index = K.repeat_elements(conv_width_index, conv_dims[1], axis=0)\n",
    "    conv_width_index = K.tile(\n",
    "        K.expand_dims(conv_width_index, 0), [conv_dims[0], 1])\n",
    "    conv_width_index = K.flatten(K.transpose(conv_width_index))\n",
    "    conv_index = K.transpose(K.stack([conv_height_index, conv_width_index]))\n",
    "    conv_index = K.reshape(conv_index, [1, conv_dims[0], conv_dims[1], 1, 2])\n",
    "    conv_index = K.cast(conv_index, K.dtype(feats))\n",
    "\n",
    "    conv_dims = K.cast(K.reshape(conv_dims, [1, 1, 1, 1, 2]), K.dtype(feats))\n",
    "\n",
    "    box_xy = (feats[..., :2] + conv_index) / conv_dims * 448\n",
    "    box_wh = feats[..., 2:4] * 448\n",
    "\n",
    "    return box_xy, box_wh\n",
    "\n",
    "##############\n",
    "### ONLY PROBLEM IS RESPONSE MASK TRY TO UNDERSTAND THAT REALLY WELL PLEASE\n",
    "\n",
    "def yolo_loss(y_true, y_pred):\n",
    "    label_class = y_true[..., :20]  # ? * 7 * 7 * 20\n",
    "    label_box = y_true[..., 20:24]  # ? * 7 * 7 * 4\n",
    "    response_mask = y_true[..., 24]  # ? * 7 * 7\n",
    "    response_mask = K.expand_dims(response_mask)  # ? * 7 * 7 * 1\n",
    "\n",
    "    predict_class = y_pred[..., :20]  # ? * 7 * 7 * 20\n",
    "    predict_trust = y_pred[..., 20:22]  # ? * 7 * 7 * 2\n",
    "    predict_box = y_pred[..., 22:]  # ? * 7 * 7 * 8\n",
    "\n",
    "    _label_box = K.reshape(label_box, [-1, 7, 7, 1, 4])\n",
    "    _predict_box = K.reshape(predict_box, [-1, 7, 7, 2, 4])\n",
    "\n",
    "    label_xy, label_wh = yolo_head(_label_box)  # ? * 7 * 7 * 1 * 2, ? * 7 * 7 * 1 * 2\n",
    "    label_xy = K.expand_dims(label_xy, 3)  # ? * 7 * 7 * 1 * 1 * 2\n",
    "    label_wh = K.expand_dims(label_wh, 3)  # ? * 7 * 7 * 1 * 1 * 2\n",
    "    label_xy_min, label_xy_max = xywh2minmax(label_xy, label_wh)  # ? * 7 * 7 * 1 * 1 * 2, ? * 7 * 7 * 1 * 1 * 2\n",
    "\n",
    "    predict_xy, predict_wh = yolo_head(_predict_box)  # ? * 7 * 7 * 2 * 2, ? * 7 * 7 * 2 * 2\n",
    "    predict_xy = K.expand_dims(predict_xy, 4)  # ? * 7 * 7 * 2 * 1 * 2\n",
    "    predict_wh = K.expand_dims(predict_wh, 4)  # ? * 7 * 7 * 2 * 1 * 2\n",
    "    predict_xy_min, predict_xy_max = xywh2minmax(predict_xy, predict_wh)  # ? * 7 * 7 * 2 * 1 * 2, ? * 7 * 7 * 2 * 1 * 2\n",
    "\n",
    "    iou_scores = iou(predict_xy_min, predict_xy_max, label_xy_min, label_xy_max)  # ? * 7 * 7 * 2 * 1\n",
    "    print(predict_xy_min.shape)\n",
    "    best_ious = K.max(iou_scores, axis=4)  # ? * 7 * 7 * 2\n",
    "    best_box = K.max(best_ious, axis=3, keepdims=True)  # ? * 7 * 7 * 1\n",
    "\n",
    "    box_mask = K.cast(best_ious >= best_box, K.dtype(best_ious))  # ? * 7 * 7 * 2\n",
    "\n",
    "    no_object_loss = 0.5 * (1 - box_mask * response_mask) * K.square(0 - predict_trust)\n",
    "    object_loss = box_mask * response_mask * K.square(1 - predict_trust)\n",
    "    confidence_loss = no_object_loss + object_loss\n",
    "    confidence_loss = K.sum(confidence_loss)\n",
    "\n",
    "    class_loss = response_mask * K.square(label_class - predict_class)\n",
    "    class_loss = K.sum(class_loss)\n",
    "\n",
    "    _label_box = K.reshape(label_box, [-1, 7, 7, 1, 4])\n",
    "    _predict_box = K.reshape(predict_box, [-1, 7, 7, 2, 4])\n",
    "\n",
    "    label_xy, label_wh = yolo_head(_label_box)  # ? * 7 * 7 * 1 * 2, ? * 7 * 7 * 1 * 2\n",
    "    predict_xy, predict_wh = yolo_head(_predict_box)  # ? * 7 * 7 * 2 * 2, ? * 7 * 7 * 2 * 2\n",
    "\n",
    "    box_mask = K.expand_dims(box_mask)\n",
    "    response_mask = K.expand_dims(response_mask)\n",
    "\n",
    "    box_loss = 5 * box_mask * response_mask * K.square((label_xy - predict_xy) / 448)\n",
    "    box_loss += 5 * box_mask * response_mask * K.square((K.sqrt(label_wh) - K.sqrt(predict_wh)) / 448)\n",
    "    box_loss = K.sum(box_loss)\n",
    "\n",
    "    loss = confidence_loss + class_loss + box_loss\n",
    "\n",
    "    return loss"
   ]
  },
  {
   "cell_type": "code",
   "execution_count": null,
   "id": "furnished-healing",
   "metadata": {},
   "outputs": [],
   "source": [
    "import tensorflow as tf\n",
    "\n",
    "#tf.cast(\n",
    "#    x, dtype=float64, name=None\n",
    "#)\n",
    "\n",
    "#y_true = label\n",
    "#y_pred = pred\n",
    "\n",
    "box_true = y_true[..., :4]\n",
    "box_pred = y_pred[..., :4]\n",
    "box_pred = K.sigmoid(box_pred)\n",
    "    \n",
    "xy_min_pred, xy_max_pred = xywh2minmax(128*y_pred[..., :2],128*y_pred[..., 2:4])\n",
    "xy_min_true, xy_max_true = xywh2minmax(128*y_true[..., :2],128*y_true[..., 2:4])\n",
    "print(xy_min_true.shape)\n",
    "\n",
    "iou_scores = iou(xy_min_pred, xy_max_pred, xy_min_true, xy_max_true)\n",
    "\n",
    "    \n",
    "#boxes_pred = K.concatenate((xy_min_pred, xy_max_pred),axis=3)\n",
    "#boxes_true = K.concatenate((xy_min_true, xy_max_true),axis=3)\n",
    "    \n",
    "    #print(boxes_true)\n",
    "    #print(boxes_pred)\n",
    "    \n",
    "    #print(boxes_pred)\n",
    "    #print(boxes_true)\n",
    "#print(boxes_true)\n",
    "#print(boxes_pred)\n",
    "#K.sum(iou_loss(boxes_true,boxes_pred))"
   ]
  },
  {
   "cell_type": "code",
   "execution_count": null,
   "id": "possible-guide",
   "metadata": {},
   "outputs": [],
   "source": [
    "iou_scores\n",
    "iou_scores=K.expand_dims(iou_scores)\n",
    "iou_scores=K.expand_dims(iou_scores)\n",
    "iou_scores=K.expand_dims(iou_scores,axis=0)"
   ]
  },
  {
   "cell_type": "code",
   "execution_count": null,
   "id": "secure-plastic",
   "metadata": {},
   "outputs": [],
   "source": [
    "best_ious = K.max(iou_scores, axis=4)"
   ]
  },
  {
   "cell_type": "code",
   "execution_count": null,
   "id": "wrong-vessel",
   "metadata": {},
   "outputs": [],
   "source": [
    "best_box = K.max(best_ious, axis=3, keepdims=True)"
   ]
  },
  {
   "cell_type": "code",
   "execution_count": null,
   "id": "radical-mounting",
   "metadata": {},
   "outputs": [],
   "source": [
    "best_box"
   ]
  },
  {
   "cell_type": "code",
   "execution_count": null,
   "id": "expressed-place",
   "metadata": {},
   "outputs": [],
   "source": [
    "box_mask = K.cast(best_ious >= best_box, K.dtype(best_ious))"
   ]
  },
  {
   "cell_type": "code",
   "execution_count": null,
   "id": "selective-disabled",
   "metadata": {},
   "outputs": [],
   "source": [
    "box_mask"
   ]
  },
  {
   "cell_type": "code",
   "execution_count": null,
   "id": "transparent-picture",
   "metadata": {},
   "outputs": [],
   "source": [
    "iou_scores"
   ]
  },
  {
   "cell_type": "code",
   "execution_count": null,
   "id": "medium-exclusion",
   "metadata": {},
   "outputs": [],
   "source": [
    "y_true[..., 5].shape"
   ]
  },
  {
   "cell_type": "code",
   "execution_count": null,
   "id": "historic-terrorist",
   "metadata": {},
   "outputs": [],
   "source": [
    "y_true[2][0][24]"
   ]
  },
  {
   "cell_type": "code",
   "execution_count": null,
   "id": "developed-friday",
   "metadata": {},
   "outputs": [],
   "source": [
    "y_true = np.random.rand(4,4,8)\n",
    "y_pred = np.random.rand(4,4,8)"
   ]
  },
  {
   "cell_type": "code",
   "execution_count": null,
   "id": "moved-state",
   "metadata": {},
   "outputs": [],
   "source": [
    "yolo_loss(y_true,y_pred)"
   ]
  }
 ],
 "metadata": {
  "kernelspec": {
   "display_name": "Python 3",
   "language": "python",
   "name": "python3"
  },
  "language_info": {
   "codemirror_mode": {
    "name": "ipython",
    "version": 3
   },
   "file_extension": ".py",
   "mimetype": "text/x-python",
   "name": "python",
   "nbconvert_exporter": "python",
   "pygments_lexer": "ipython3",
   "version": "3.6.12"
  }
 },
 "nbformat": 4,
 "nbformat_minor": 5
}
