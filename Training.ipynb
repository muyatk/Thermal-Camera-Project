{
 "cells": [
  {
   "cell_type": "code",
   "execution_count": 1,
   "id": "theoretical-milwaukee",
   "metadata": {},
   "outputs": [],
   "source": [
    "file1 = open('20210507_1605_C088.txt', 'r')\n",
    "Lines = file1.readlines()\n",
    "\n",
    "file2 = open('20210507_1605_3078.txt', 'r')\n",
    "Lines2 = file2.readlines()"
   ]
  },
  {
   "cell_type": "code",
   "execution_count": 2,
   "id": "internal-queensland",
   "metadata": {},
   "outputs": [],
   "source": [
    "import json\n",
    "import numpy as np\n",
    "\n",
    "DATA = []\n",
    "\n",
    "for line in Lines:\n",
    "    \n",
    "    test_string = line\n",
    "    \n",
    "    res = json.loads(test_string)\n",
    "    \n",
    "    heatmap = np.asarray(res[\"data\"])\n",
    "    \n",
    "    DATA.append(heatmap)\n",
    "    \n",
    "for line in Lines2:\n",
    "    \n",
    "    test_string = line\n",
    "    \n",
    "    res = json.loads(test_string)\n",
    "    \n",
    "    heatmap = np.asarray(res[\"data\"])\n",
    "    \n",
    "    DATA.append(heatmap)"
   ]
  },
  {
   "cell_type": "code",
   "execution_count": 3,
   "id": "referenced-cooking",
   "metadata": {},
   "outputs": [],
   "source": [
    "for i in range(10000):\n",
    "    \n",
    "    x = np.random.uniform(9,20,(32,32))\n",
    "    \n",
    "    DATA.append(x)"
   ]
  },
  {
   "cell_type": "code",
   "execution_count": 4,
   "id": "fallen-routine",
   "metadata": {},
   "outputs": [],
   "source": [
    "DATA = np.asarray(DATA)"
   ]
  },
  {
   "cell_type": "code",
   "execution_count": 5,
   "id": "preliminary-priority",
   "metadata": {},
   "outputs": [],
   "source": [
    "Y = []\n",
    "\n",
    "for i in range(10000):\n",
    "    Y.append(1)\n",
    "for i in range(10000):\n",
    "    Y.append(0)\n",
    "    \n",
    "Y = np.asarray(Y)"
   ]
  },
  {
   "cell_type": "code",
   "execution_count": 7,
   "id": "existing-grammar",
   "metadata": {},
   "outputs": [
    {
     "data": {
      "text/plain": [
       "(20000, 32, 32)"
      ]
     },
     "execution_count": 7,
     "metadata": {},
     "output_type": "execute_result"
    }
   ],
   "source": [
    "DATA.shape"
   ]
  },
  {
   "cell_type": "code",
   "execution_count": 8,
   "id": "younger-brook",
   "metadata": {},
   "outputs": [
    {
     "data": {
      "text/plain": [
       "(20000,)"
      ]
     },
     "execution_count": 8,
     "metadata": {},
     "output_type": "execute_result"
    }
   ],
   "source": [
    "Y.shape"
   ]
  },
  {
   "cell_type": "code",
   "execution_count": 9,
   "id": "posted-concentrate",
   "metadata": {},
   "outputs": [],
   "source": [
    "from sklearn.model_selection import train_test_split\n",
    "\n",
    "X_train, X_test, y_train, y_test = train_test_split(DATA, Y, test_size=0.33, random_state=42)"
   ]
  },
  {
   "cell_type": "code",
   "execution_count": 10,
   "id": "palestinian-linux",
   "metadata": {},
   "outputs": [],
   "source": [
    "from tensorflow.keras.utils import to_categorical\n",
    "\n",
    "X_train = X_train.reshape((X_train.shape[0], 32, 32, 1))\n",
    "X_test = X_test.reshape((X_test.shape[0], 32, 32, 1))\n",
    "# one hot encode target values\n",
    "y_train = to_categorical(y_train)\n",
    "y_test = to_categorical(y_test)"
   ]
  },
  {
   "cell_type": "code",
   "execution_count": 11,
   "id": "democratic-baseline",
   "metadata": {},
   "outputs": [
    {
     "data": {
      "text/plain": [
       "(13400, 32, 32, 1)"
      ]
     },
     "execution_count": 11,
     "metadata": {},
     "output_type": "execute_result"
    }
   ],
   "source": [
    "X_train.shape"
   ]
  },
  {
   "cell_type": "code",
   "execution_count": 12,
   "id": "statewide-status",
   "metadata": {},
   "outputs": [
    {
     "data": {
      "text/plain": [
       "(13400, 2)"
      ]
     },
     "execution_count": 12,
     "metadata": {},
     "output_type": "execute_result"
    }
   ],
   "source": [
    "y_train.shape"
   ]
  },
  {
   "cell_type": "code",
   "execution_count": 13,
   "id": "prospective-architecture",
   "metadata": {},
   "outputs": [],
   "source": [
    "def normalize(x):\n",
    "    min_val = np.min(x)\n",
    "    max_val = np.max(x)\n",
    "    x = (x-min_val) / (max_val-min_val)\n",
    "    return x"
   ]
  },
  {
   "cell_type": "code",
   "execution_count": 14,
   "id": "flying-malawi",
   "metadata": {},
   "outputs": [],
   "source": [
    "X_train = normalize(X_train.astype('float32'))"
   ]
  },
  {
   "cell_type": "code",
   "execution_count": 15,
   "id": "prospective-gabriel",
   "metadata": {},
   "outputs": [],
   "source": [
    "X_test = normalize(X_test.astype('float32'))"
   ]
  },
  {
   "cell_type": "code",
   "execution_count": 16,
   "id": "fleet-commissioner",
   "metadata": {},
   "outputs": [],
   "source": [
    "from tensorflow.keras.models import Sequential\n",
    "from tensorflow.keras.layers import Conv2D\n",
    "from tensorflow.keras.layers import MaxPooling2D, AveragePooling2D\n",
    "from tensorflow.keras.layers import Dense,Softmax\n",
    "from tensorflow.keras.layers import Flatten\n",
    "from tensorflow.keras.optimizers import SGD\n",
    "from tensorflow.keras.layers import BatchNormalization\n",
    "from matplotlib import pyplot as plt\n",
    "\n",
    "def define_model():\n",
    "    model = Sequential()\n",
    "    model.add(Conv2D(32, (3, 3), activation='relu', kernel_initializer='he_uniform', input_shape=(32, 32, 1)))\n",
    "    model.add(MaxPooling2D((2, 2)))\n",
    "    model.add(Conv2D(64, (3, 3), activation='relu', kernel_initializer='he_uniform'))\n",
    "    model.add(Conv2D(64, (1, 1), activation='relu', kernel_initializer='he_uniform'))\n",
    "    model.add(MaxPooling2D((2, 2)))\n",
    "    model.add(Conv2D(64, (3, 3), activation='relu', kernel_initializer='he_uniform'))\n",
    "    model.add(Conv2D(32, (1, 1), activation='relu', kernel_initializer='he_uniform'))\n",
    "\n",
    "    #model.add(Flatten())\n",
    "    #model.add(Dense(100, activation='relu', kernel_initializer='he_uniform'))\n",
    "    model.add(AveragePooling2D())\n",
    "    model.add(Flatten())\n",
    "    model.add(Dense(2, activation='softmax'))\n",
    "    #model.add(AveragePooling2D())\n",
    "    #model.add(Flatten())\n",
    "    #model.add(Softmax())\n",
    "    # compile model\n",
    "    opt = SGD(learning_rate=0.01, momentum=0.9)\n",
    "    model.compile(optimizer=opt, loss='categorical_crossentropy', metrics=['accuracy'])\n",
    "    return model"
   ]
  },
  {
   "cell_type": "code",
   "execution_count": 17,
   "id": "bound-outline",
   "metadata": {},
   "outputs": [
    {
     "name": "stdout",
     "output_type": "stream",
     "text": [
      "Model: \"sequential\"\n",
      "_________________________________________________________________\n",
      "Layer (type)                 Output Shape              Param #   \n",
      "=================================================================\n",
      "conv2d (Conv2D)              (None, 30, 30, 32)        320       \n",
      "_________________________________________________________________\n",
      "max_pooling2d (MaxPooling2D) (None, 15, 15, 32)        0         \n",
      "_________________________________________________________________\n",
      "conv2d_1 (Conv2D)            (None, 13, 13, 64)        18496     \n",
      "_________________________________________________________________\n",
      "conv2d_2 (Conv2D)            (None, 13, 13, 64)        4160      \n",
      "_________________________________________________________________\n",
      "max_pooling2d_1 (MaxPooling2 (None, 6, 6, 64)          0         \n",
      "_________________________________________________________________\n",
      "conv2d_3 (Conv2D)            (None, 4, 4, 64)          36928     \n",
      "_________________________________________________________________\n",
      "conv2d_4 (Conv2D)            (None, 4, 4, 32)          2080      \n",
      "_________________________________________________________________\n",
      "average_pooling2d (AveragePo (None, 2, 2, 32)          0         \n",
      "_________________________________________________________________\n",
      "flatten (Flatten)            (None, 128)               0         \n",
      "_________________________________________________________________\n",
      "dense (Dense)                (None, 2)                 258       \n",
      "=================================================================\n",
      "Total params: 62,242\n",
      "Trainable params: 62,242\n",
      "Non-trainable params: 0\n",
      "_________________________________________________________________\n"
     ]
    }
   ],
   "source": [
    "model = define_model()\n",
    "model.summary()"
   ]
  },
  {
   "cell_type": "code",
   "execution_count": 18,
   "id": "hybrid-manufacturer",
   "metadata": {},
   "outputs": [
    {
     "name": "stdout",
     "output_type": "stream",
     "text": [
      "Epoch 1/10\n",
      "335/335 [==============================] - 5s 10ms/step - loss: 0.1047 - accuracy: 0.9473 - val_loss: 1.5261e-05 - val_accuracy: 1.0000\n",
      "Epoch 2/10\n",
      "335/335 [==============================] - 3s 9ms/step - loss: 1.4372e-05 - accuracy: 1.0000 - val_loss: 1.1143e-05 - val_accuracy: 1.0000\n",
      "Epoch 3/10\n",
      "335/335 [==============================] - 3s 9ms/step - loss: 1.0755e-05 - accuracy: 1.0000 - val_loss: 8.8082e-06 - val_accuracy: 1.0000\n",
      "Epoch 4/10\n",
      "335/335 [==============================] - 3s 9ms/step - loss: 8.4354e-06 - accuracy: 1.0000 - val_loss: 7.2973e-06 - val_accuracy: 1.0000\n",
      "Epoch 5/10\n",
      "335/335 [==============================] - 3s 9ms/step - loss: 7.1579e-06 - accuracy: 1.0000 - val_loss: 6.2379e-06 - val_accuracy: 1.0000\n",
      "Epoch 6/10\n",
      "335/335 [==============================] - 3s 9ms/step - loss: 6.2408e-06 - accuracy: 1.0000 - val_loss: 5.4521e-06 - val_accuracy: 1.0000\n",
      "Epoch 7/10\n",
      "335/335 [==============================] - 3s 9ms/step - loss: 5.4293e-06 - accuracy: 1.0000 - val_loss: 4.8449e-06 - val_accuracy: 1.0000\n",
      "Epoch 8/10\n",
      "335/335 [==============================] - 3s 9ms/step - loss: 4.8713e-06 - accuracy: 1.0000 - val_loss: 4.3582e-06 - val_accuracy: 1.0000\n",
      "Epoch 9/10\n",
      "335/335 [==============================] - 3s 9ms/step - loss: 4.3324e-06 - accuracy: 1.0000 - val_loss: 3.9668e-06 - val_accuracy: 1.0000\n",
      "Epoch 10/10\n",
      "335/335 [==============================] - 3s 9ms/step - loss: 3.9667e-06 - accuracy: 1.0000 - val_loss: 3.6375e-06 - val_accuracy: 1.0000\n"
     ]
    },
    {
     "data": {
      "image/png": "[encoded data removed]",
      "text/plain": [
       "<Figure size 432x288 with 1 Axes>"
      ]
     },
     "metadata": {
      "needs_background": "light"
     },
     "output_type": "display_data"
    },
    {
     "data": {
      "image/png": "[encoded data removed]",
      "text/plain": [
       "<Figure size 432x288 with 1 Axes>"
      ]
     },
     "metadata": {
      "needs_background": "light"
     },
     "output_type": "display_data"
    },
    {
     "name": "stdout",
     "output_type": "stream",
     "text": [
      "Test Accuracy:\n",
      "207/207 - 1s - loss: 3.6786e-06 - accuracy: 1.0000\n"
     ]
    }
   ],
   "source": [
    "history = model.fit(X_train, y_train, epochs=10, batch_size=32, validation_split=0.2)\n",
    "\n",
    "plt.plot(history.history['accuracy'])\n",
    "plt.plot(history.history['val_accuracy'])\n",
    "plt.show()\n",
    "\n",
    "plt.plot(history.history['loss'])\n",
    "plt.plot(history.history['val_loss'])\n",
    "plt.show()\n",
    "\n",
    "print(\"Test Accuracy:\")\n",
    "test_acc = model.evaluate(X_test, y_test, verbose=2)"
   ]
  },
  {
   "cell_type": "code",
   "execution_count": 19,
   "id": "mechanical-badge",
   "metadata": {},
   "outputs": [],
   "source": [
    "model.pop()\n",
    "model.pop()\n",
    "model.pop()"
   ]
  },
  {
   "cell_type": "code",
   "execution_count": 20,
   "id": "adverse-therapy",
   "metadata": {},
   "outputs": [
    {
     "data": {
      "text/plain": [
       "[<tensorflow.python.keras.layers.convolutional.Conv2D at 0x21b360944e0>,\n",
       " <tensorflow.python.keras.layers.pooling.MaxPooling2D at 0x21b362f46a0>,\n",
       " <tensorflow.python.keras.layers.convolutional.Conv2D at 0x21b3632e9e8>,\n",
       " <tensorflow.python.keras.layers.convolutional.Conv2D at 0x21b3633d5f8>,\n",
       " <tensorflow.python.keras.layers.pooling.MaxPooling2D at 0x21b3633dcc0>,\n",
       " <tensorflow.python.keras.layers.convolutional.Conv2D at 0x21b36340e48>,\n",
       " <tensorflow.python.keras.layers.convolutional.Conv2D at 0x21b36348a58>]"
      ]
     },
     "execution_count": 20,
     "metadata": {},
     "output_type": "execute_result"
    }
   ],
   "source": [
    "model.layers"
   ]
  },
  {
   "cell_type": "code",
   "execution_count": 21,
   "id": "editorial-belgium",
   "metadata": {},
   "outputs": [],
   "source": [
    "model.add(MaxPooling2D((2, 2)))\n",
    "model.add(Conv2D(64, (1, 1), activation='relu', kernel_initializer='he_uniform'))\n",
    "model.add(Conv2D(32, (1, 1), activation='relu', kernel_initializer='he_uniform'))"
   ]
  },
  {
   "cell_type": "code",
   "execution_count": 22,
   "id": "backed-paraguay",
   "metadata": {},
   "outputs": [],
   "source": [
    "model.add(Flatten())\n",
    "model.add(Dense(112, activation='linear'))"
   ]
  },
  {
   "cell_type": "code",
   "execution_count": 23,
   "id": "further-aberdeen",
   "metadata": {},
   "outputs": [
    {
     "name": "stdout",
     "output_type": "stream",
     "text": [
      "Model: \"sequential\"\n",
      "_________________________________________________________________\n",
      "Layer (type)                 Output Shape              Param #   \n",
      "=================================================================\n",
      "conv2d (Conv2D)              (None, 30, 30, 32)        320       \n",
      "_________________________________________________________________\n",
      "max_pooling2d (MaxPooling2D) (None, 15, 15, 32)        0         \n",
      "_________________________________________________________________\n",
      "conv2d_1 (Conv2D)            (None, 13, 13, 64)        18496     \n",
      "_________________________________________________________________\n",
      "conv2d_2 (Conv2D)            (None, 13, 13, 64)        4160      \n",
      "_________________________________________________________________\n",
      "max_pooling2d_1 (MaxPooling2 (None, 6, 6, 64)          0         \n",
      "_________________________________________________________________\n",
      "conv2d_3 (Conv2D)            (None, 4, 4, 64)          36928     \n",
      "_________________________________________________________________\n",
      "conv2d_4 (Conv2D)            (None, 4, 4, 32)          2080      \n",
      "_________________________________________________________________\n",
      "max_pooling2d_2 (MaxPooling2 (None, 2, 2, 32)          0         \n",
      "_________________________________________________________________\n",
      "conv2d_5 (Conv2D)            (None, 2, 2, 64)          2112      \n",
      "_________________________________________________________________\n",
      "conv2d_6 (Conv2D)            (None, 2, 2, 32)          2080      \n",
      "_________________________________________________________________\n",
      "flatten_1 (Flatten)          (None, 128)               0         \n",
      "_________________________________________________________________\n",
      "dense_1 (Dense)              (None, 112)               14448     \n",
      "=================================================================\n",
      "Total params: 80,624\n",
      "Trainable params: 80,624\n",
      "Non-trainable params: 0\n",
      "_________________________________________________________________\n"
     ]
    }
   ],
   "source": [
    "model.summary()"
   ]
  },
  {
   "cell_type": "code",
   "execution_count": null,
   "id": "complimentary-problem",
   "metadata": {},
   "outputs": [],
   "source": [
    "import os \n",
    "\n",
    "annot_list = os.listdir(\"annotations\")[1:]"
   ]
  },
  {
   "cell_type": "code",
   "execution_count": null,
   "id": "geological-studio",
   "metadata": {},
   "outputs": [],
   "source": [
    "annot_list"
   ]
  },
  {
   "cell_type": "code",
   "execution_count": null,
   "id": "infectious-university",
   "metadata": {},
   "outputs": [],
   "source": [
    "for l in annot_list:\n",
    "    file1 = open(\"annotations/\" + l, 'r')\n",
    "    Lines = file1.readlines()\n",
    "    #print(Lines)\n",
    "    with open(\"correct_annotations/\" + l, 'a') as the_file:\n",
    "        \n",
    "        for line in Lines:\n",
    "            x=\"\"\n",
    "            correct = line.split(\" \")\n",
    "            if correct[0]==\"15\":\n",
    "                correct[0]=\"0\"\n",
    "            if correct[0]==\"16\":\n",
    "                correct[0]=\"1\"\n",
    "            \n",
    "            for i in correct:\n",
    "                x = x + \" \" + i\n",
    "            \n",
    "            #print(correct)\n",
    "            the_file.write(x)\n",
    "    \n",
    "            \n",
    "        \n",
    "        \n",
    "    "
   ]
  },
  {
   "cell_type": "code",
   "execution_count": 3,
   "id": "premium-disorder",
   "metadata": {},
   "outputs": [],
   "source": [
    "def xywh2minmax(xy, wh):\n",
    "    xy_min = xy - wh / 2\n",
    "    xy_max = xy + wh / 2\n",
    "\n",
    "    return xy_min, xy_max"
   ]
  },
  {
   "cell_type": "code",
   "execution_count": 1,
   "id": "following-chicago",
   "metadata": {},
   "outputs": [],
   "source": [
    "def bb_intersection_over_union(boxA, boxB):\n",
    "    # determine the (x, y)-coordinates of the intersection rectangle\n",
    "    xA = max(boxA[0], boxB[0])\n",
    "    yA = max(boxA[1], boxB[1])\n",
    "    xB = min(boxA[2], boxB[2])\n",
    "    yB = min(boxA[3], boxB[3])\n",
    "    # compute the area of intersection rectangle\n",
    "    interArea = max(0, xB - xA + 1) * max(0, yB - yA + 1)\n",
    "    # compute the area of both the prediction and ground-truth\n",
    "    # rectangles\n",
    "    boxAArea = (boxA[2] - boxA[0] + 1) * (boxA[3] - boxA[1] + 1)\n",
    "    boxBArea = (boxB[2] - boxB[0] + 1) * (boxB[3] - boxB[1] + 1)\n",
    "    # compute the intersection over union by taking the intersection\n",
    "    # area and dividing it by the sum of prediction + ground-truth\n",
    "    # areas - the interesection area\n",
    "    iou = interArea / float(boxAArea + boxBArea - interArea)\n",
    "    # return the intersection over union value\n",
    "    return iou"
   ]
  },
  {
   "cell_type": "code",
   "execution_count": 5,
   "id": "exotic-testing",
   "metadata": {},
   "outputs": [
    {
     "data": {
      "text/plain": [
       "(array([ 4.169136, 14.43904 ]), array([ 6.69256 , 26.195136]))"
      ]
     },
     "execution_count": 5,
     "metadata": {},
     "output_type": "execute_result"
    }
   ],
   "source": [
    "import numpy as np\n",
    "xywh2minmax(np.array([32*0.169714, 32*0.634909]), np.array([32*0.078857, 32*0.367378]))"
   ]
  },
  {
   "cell_type": "code",
   "execution_count": null,
   "id": "healthy-habitat",
   "metadata": {},
   "outputs": [],
   "source": [
    "t=np.random.rand(112)\n",
    "k=np.resize(t,(4,4,7))"
   ]
  },
  {
   "cell_type": "code",
   "execution_count": null,
   "id": "historical-collar",
   "metadata": {},
   "outputs": [],
   "source": [
    "k[0][0]"
   ]
  },
  {
   "cell_type": "code",
   "execution_count": null,
   "id": "racial-certification",
   "metadata": {},
   "outputs": [],
   "source": [
    "def custom_loss(y_true, y_pred):\n",
    "            \n",
    "    # calculate loss, using y_pred\n",
    "    \n",
    "    \n",
    "    \n",
    "        \n",
    "    return loss\n",
    "  \n",
    "model.compile(loss=custom_loss, optimizer='adam')"
   ]
  }
 ],
 "metadata": {
  "kernelspec": {
   "display_name": "Python 3",
   "language": "python",
   "name": "python3"
  },
  "language_info": {
   "codemirror_mode": {
    "name": "ipython",
    "version": 3
   },
   "file_extension": ".py",
   "mimetype": "text/x-python",
   "name": "python",
   "nbconvert_exporter": "python",
   "pygments_lexer": "ipython3",
   "version": "3.6.12"
  }
 },
 "nbformat": 4,
 "nbformat_minor": 5
}
